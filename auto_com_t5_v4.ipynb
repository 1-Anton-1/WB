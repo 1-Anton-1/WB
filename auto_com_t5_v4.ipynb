{
 "cells": [
  {
   "cell_type": "markdown",
   "metadata": {
    "id": "mGzFahZ2xGEi"
   },
   "source": [
    "# 5-ый этап"
   ]
  },
  {
   "cell_type": "markdown",
   "metadata": {
    "id": "Ej8nC_v0xGEj"
   },
   "source": [
    "## 5.1 Импорт библиотек и данных"
   ]
  },
  {
   "cell_type": "code",
   "execution_count": 1,
   "metadata": {
    "scrolled": true
   },
   "outputs": [
    {
     "name": "stdout",
     "output_type": "stream",
     "text": [
      "Requirement already satisfied: seaborn in c:\\users\\work\\desktop\\it\\projects\\venv\\lib\\site-packages (0.13.2)"
     ]
    },
    {
     "name": "stderr",
     "output_type": "stream",
     "text": [
      "ERROR: Could not find a version that satisfies the requirement faiss-gpu (from versions: none)\n",
      "ERROR: No matching distribution found for faiss-gpu\n"
     ]
    },
    {
     "name": "stdout",
     "output_type": "stream",
     "text": [
      "\n",
      "Requirement already satisfied: bitsandbytes in c:\\users\\work\\desktop\\it\\projects\\venv\\lib\\site-packages (0.43.1)\n",
      "Requirement already satisfied: sentence_transformers in c:\\users\\work\\desktop\\it\\projects\\venv\\lib\\site-packages (4.1.0)\n",
      "Requirement already satisfied: pydrive in c:\\users\\work\\desktop\\it\\projects\\venv\\lib\\site-packages (1.3.1)\n",
      "Requirement already satisfied: gdown in c:\\users\\work\\desktop\\it\\projects\\venv\\lib\\site-packages (5.2.0)\n",
      "Requirement already satisfied: rank_bm25 in c:\\users\\work\\desktop\\it\\projects\\venv\\lib\\site-packages (0.2.2)\n",
      "Requirement already satisfied: langchain in c:\\users\\work\\desktop\\it\\projects\\venv\\lib\\site-packages (0.3.25)\n",
      "Requirement already satisfied: wget in c:\\users\\work\\desktop\\it\\projects\\venv\\lib\\site-packages (3.2)\n",
      "Requirement already satisfied: bert_score in c:\\users\\work\\desktop\\it\\projects\\venv\\lib\\site-packages (0.3.13)\n"
     ]
    }
   ],
   "source": [
    "import sys\n",
    "!{sys.executable} -m pip install seaborn bitsandbytes sentence_transformers pydrive gdown rank_bm25 langchain wget bert_score faiss-gpu seaborn"
   ]
  },
  {
   "cell_type": "code",
   "execution_count": 2,
   "metadata": {
    "id": "jNhN54H8xGEj",
    "scrolled": true
   },
   "outputs": [
    {
     "name": "stdout",
     "output_type": "stream",
     "text": [
      "Requirement already satisfied: bitsandbytes in c:\\users\\work\\desktop\\it\\projects\\venv\\lib\\site-packages (0.43.1)\n",
      "Requirement already satisfied: torch in c:\\users\\work\\desktop\\it\\projects\\venv\\lib\\site-packages (from bitsandbytes) (2.4.1)\n",
      "Requirement already satisfied: numpy in c:\\users\\work\\desktop\\it\\projects\\venv\\lib\\site-packages (from bitsandbytes) (1.26.4)\n",
      "Requirement already satisfied: filelock in c:\\users\\work\\desktop\\it\\projects\\venv\\lib\\site-packages (from torch->bitsandbytes) (3.14.0)\n",
      "Requirement already satisfied: typing-extensions>=4.8.0 in c:\\users\\work\\desktop\\it\\projects\\venv\\lib\\site-packages (from torch->bitsandbytes) (4.13.2)\n",
      "Requirement already satisfied: sympy in c:\\users\\work\\desktop\\it\\projects\\venv\\lib\\site-packages (from torch->bitsandbytes) (1.12)\n",
      "Requirement already satisfied: networkx in c:\\users\\work\\desktop\\it\\projects\\venv\\lib\\site-packages (from torch->bitsandbytes) (3.2.1)\n",
      "Requirement already satisfied: jinja2 in c:\\users\\work\\desktop\\it\\projects\\venv\\lib\\site-packages (from torch->bitsandbytes) (3.1.4)\n",
      "Requirement already satisfied: fsspec in c:\\users\\work\\desktop\\it\\projects\\venv\\lib\\site-packages (from torch->bitsandbytes) (2024.5.0)\n",
      "Requirement already satisfied: MarkupSafe>=2.0 in c:\\users\\work\\desktop\\it\\projects\\venv\\lib\\site-packages (from jinja2->torch->bitsandbytes) (2.1.5)\n",
      "Requirement already satisfied: mpmath>=0.19 in c:\\users\\work\\desktop\\it\\projects\\venv\\lib\\site-packages (from sympy->torch->bitsandbytes) (1.3.0)\n",
      "Requirement already satisfied: sentence_transformers in c:\\users\\work\\desktop\\it\\projects\\venv\\lib\\site-packages (4.1.0)\n",
      "Requirement already satisfied: transformers<5.0.0,>=4.41.0 in c:\\users\\work\\desktop\\it\\projects\\venv\\lib\\site-packages (from sentence_transformers) (4.51.3)\n",
      "Requirement already satisfied: tqdm in c:\\users\\work\\desktop\\it\\projects\\venv\\lib\\site-packages (from sentence_transformers) (4.66.4)\n",
      "Requirement already satisfied: torch>=1.11.0 in c:\\users\\work\\desktop\\it\\projects\\venv\\lib\\site-packages (from sentence_transformers) (2.4.1)\n",
      "Requirement already satisfied: scikit-learn in c:\\users\\work\\desktop\\it\\projects\\venv\\lib\\site-packages (from sentence_transformers) (1.4.2)\n",
      "Requirement already satisfied: scipy in c:\\users\\work\\desktop\\it\\projects\\venv\\lib\\site-packages (from sentence_transformers) (1.13.0)\n",
      "Requirement already satisfied: huggingface-hub>=0.20.0 in c:\\users\\work\\desktop\\it\\projects\\venv\\lib\\site-packages (from sentence_transformers) (0.31.1)\n",
      "Requirement already satisfied: Pillow in c:\\users\\work\\desktop\\it\\projects\\venv\\lib\\site-packages (from sentence_transformers) (11.2.1)\n",
      "Requirement already satisfied: typing_extensions>=4.5.0 in c:\\users\\work\\desktop\\it\\projects\\venv\\lib\\site-packages (from sentence_transformers) (4.13.2)\n",
      "Requirement already satisfied: filelock in c:\\users\\work\\desktop\\it\\projects\\venv\\lib\\site-packages (from transformers<5.0.0,>=4.41.0->sentence_transformers) (3.14.0)\n",
      "Requirement already satisfied: numpy>=1.17 in c:\\users\\work\\desktop\\it\\projects\\venv\\lib\\site-packages (from transformers<5.0.0,>=4.41.0->sentence_transformers) (1.26.4)\n",
      "Requirement already satisfied: packaging>=20.0 in c:\\users\\work\\desktop\\it\\projects\\venv\\lib\\site-packages (from transformers<5.0.0,>=4.41.0->sentence_transformers) (24.0)\n",
      "Requirement already satisfied: pyyaml>=5.1 in c:\\users\\work\\desktop\\it\\projects\\venv\\lib\\site-packages (from transformers<5.0.0,>=4.41.0->sentence_transformers) (6.0.1)\n",
      "Requirement already satisfied: regex!=2019.12.17 in c:\\users\\work\\desktop\\it\\projects\\venv\\lib\\site-packages (from transformers<5.0.0,>=4.41.0->sentence_transformers) (2024.5.15)\n",
      "Requirement already satisfied: requests in c:\\users\\work\\desktop\\it\\projects\\venv\\lib\\site-packages (from transformers<5.0.0,>=4.41.0->sentence_transformers) (2.31.0)\n",
      "Requirement already satisfied: tokenizers<0.22,>=0.21 in c:\\users\\work\\desktop\\it\\projects\\venv\\lib\\site-packages (from transformers<5.0.0,>=4.41.0->sentence_transformers) (0.21.1)\n",
      "Requirement already satisfied: safetensors>=0.4.3 in c:\\users\\work\\desktop\\it\\projects\\venv\\lib\\site-packages (from transformers<5.0.0,>=4.41.0->sentence_transformers) (0.4.3)\n",
      "Requirement already satisfied: fsspec>=2023.5.0 in c:\\users\\work\\desktop\\it\\projects\\venv\\lib\\site-packages (from huggingface-hub>=0.20.0->sentence_transformers) (2024.5.0)\n",
      "Requirement already satisfied: sympy in c:\\users\\work\\desktop\\it\\projects\\venv\\lib\\site-packages (from torch>=1.11.0->sentence_transformers) (1.12)\n",
      "Requirement already satisfied: networkx in c:\\users\\work\\desktop\\it\\projects\\venv\\lib\\site-packages (from torch>=1.11.0->sentence_transformers) (3.2.1)\n",
      "Requirement already satisfied: jinja2 in c:\\users\\work\\desktop\\it\\projects\\venv\\lib\\site-packages (from torch>=1.11.0->sentence_transformers) (3.1.4)\n",
      "Requirement already satisfied: colorama in c:\\users\\work\\desktop\\it\\projects\\venv\\lib\\site-packages (from tqdm->sentence_transformers) (0.4.6)\n",
      "Requirement already satisfied: MarkupSafe>=2.0 in c:\\users\\work\\desktop\\it\\projects\\venv\\lib\\site-packages (from jinja2->torch>=1.11.0->sentence_transformers) (2.1.5)\n",
      "Requirement already satisfied: charset-normalizer<4,>=2 in c:\\users\\work\\desktop\\it\\projects\\venv\\lib\\site-packages (from requests->transformers<5.0.0,>=4.41.0->sentence_transformers) (3.3.2)\n",
      "Requirement already satisfied: idna<4,>=2.5 in c:\\users\\work\\desktop\\it\\projects\\venv\\lib\\site-packages (from requests->transformers<5.0.0,>=4.41.0->sentence_transformers) (3.7)\n",
      "Requirement already satisfied: urllib3<3,>=1.21.1 in c:\\users\\work\\desktop\\it\\projects\\venv\\lib\\site-packages (from requests->transformers<5.0.0,>=4.41.0->sentence_transformers) (2.2.1)\n",
      "Requirement already satisfied: certifi>=2017.4.17 in c:\\users\\work\\desktop\\it\\projects\\venv\\lib\\site-packages (from requests->transformers<5.0.0,>=4.41.0->sentence_transformers) (2024.2.2)\n",
      "Requirement already satisfied: joblib>=1.2.0 in c:\\users\\work\\desktop\\it\\projects\\venv\\lib\\site-packages (from scikit-learn->sentence_transformers) (1.4.2)\n",
      "Requirement already satisfied: threadpoolctl>=2.0.0 in c:\\users\\work\\desktop\\it\\projects\\venv\\lib\\site-packages (from scikit-learn->sentence_transformers) (3.5.0)\n",
      "Requirement already satisfied: mpmath>=0.19 in c:\\users\\work\\desktop\\it\\projects\\venv\\lib\\site-packages (from sympy->torch>=1.11.0->sentence_transformers) (1.3.0)\n",
      "Requirement already satisfied: pydrive in c:\\users\\work\\desktop\\it\\projects\\venv\\lib\\site-packages (1.3.1)\n",
      "Requirement already satisfied: google-api-python-client>=1.2 in c:\\users\\work\\desktop\\it\\projects\\venv\\lib\\site-packages (from pydrive) (2.169.0)\n",
      "Requirement already satisfied: oauth2client>=4.0.0 in c:\\users\\work\\desktop\\it\\projects\\venv\\lib\\site-packages (from pydrive) (4.1.3)\n",
      "Requirement already satisfied: PyYAML>=3.0 in c:\\users\\work\\desktop\\it\\projects\\venv\\lib\\site-packages (from pydrive) (6.0.1)\n",
      "Requirement already satisfied: httplib2<1.0.0,>=0.19.0 in c:\\users\\work\\desktop\\it\\projects\\venv\\lib\\site-packages (from google-api-python-client>=1.2->pydrive) (0.22.0)\n",
      "Requirement already satisfied: google-auth!=2.24.0,!=2.25.0,<3.0.0,>=1.32.0 in c:\\users\\work\\desktop\\it\\projects\\venv\\lib\\site-packages (from google-api-python-client>=1.2->pydrive) (2.40.1)\n",
      "Requirement already satisfied: google-auth-httplib2<1.0.0,>=0.2.0 in c:\\users\\work\\desktop\\it\\projects\\venv\\lib\\site-packages (from google-api-python-client>=1.2->pydrive) (0.2.0)\n",
      "Requirement already satisfied: google-api-core!=2.0.*,!=2.1.*,!=2.2.*,!=2.3.0,<3.0.0,>=1.31.5 in c:\\users\\work\\desktop\\it\\projects\\venv\\lib\\site-packages (from google-api-python-client>=1.2->pydrive) (2.24.2)\n",
      "Requirement already satisfied: uritemplate<5,>=3.0.1 in c:\\users\\work\\desktop\\it\\projects\\venv\\lib\\site-packages (from google-api-python-client>=1.2->pydrive) (4.1.1)\n",
      "Requirement already satisfied: googleapis-common-protos<2.0.0,>=1.56.2 in c:\\users\\work\\desktop\\it\\projects\\venv\\lib\\site-packages (from google-api-core!=2.0.*,!=2.1.*,!=2.2.*,!=2.3.0,<3.0.0,>=1.31.5->google-api-python-client>=1.2->pydrive) (1.70.0)\n",
      "Requirement already satisfied: protobuf!=3.20.0,!=3.20.1,!=4.21.0,!=4.21.1,!=4.21.2,!=4.21.3,!=4.21.4,!=4.21.5,<7.0.0,>=3.19.5 in c:\\users\\work\\desktop\\it\\projects\\venv\\lib\\site-packages (from google-api-core!=2.0.*,!=2.1.*,!=2.2.*,!=2.3.0,<3.0.0,>=1.31.5->google-api-python-client>=1.2->pydrive) (6.30.2)\n",
      "Requirement already satisfied: proto-plus<2.0.0,>=1.22.3 in c:\\users\\work\\desktop\\it\\projects\\venv\\lib\\site-packages (from google-api-core!=2.0.*,!=2.1.*,!=2.2.*,!=2.3.0,<3.0.0,>=1.31.5->google-api-python-client>=1.2->pydrive) (1.26.1)\n",
      "Requirement already satisfied: requests<3.0.0,>=2.18.0 in c:\\users\\work\\desktop\\it\\projects\\venv\\lib\\site-packages (from google-api-core!=2.0.*,!=2.1.*,!=2.2.*,!=2.3.0,<3.0.0,>=1.31.5->google-api-python-client>=1.2->pydrive) (2.31.0)\n",
      "Requirement already satisfied: cachetools<6.0,>=2.0.0 in c:\\users\\work\\desktop\\it\\projects\\venv\\lib\\site-packages (from google-auth!=2.24.0,!=2.25.0,<3.0.0,>=1.32.0->google-api-python-client>=1.2->pydrive) (5.5.2)\n",
      "Requirement already satisfied: pyasn1-modules>=0.2.1 in c:\\users\\work\\desktop\\it\\projects\\venv\\lib\\site-packages (from google-auth!=2.24.0,!=2.25.0,<3.0.0,>=1.32.0->google-api-python-client>=1.2->pydrive) (0.4.2)\n",
      "Requirement already satisfied: rsa<5,>=3.1.4 in c:\\users\\work\\desktop\\it\\projects\\venv\\lib\\site-packages (from google-auth!=2.24.0,!=2.25.0,<3.0.0,>=1.32.0->google-api-python-client>=1.2->pydrive) (4.9.1)\n",
      "Requirement already satisfied: pyparsing!=3.0.0,!=3.0.1,!=3.0.2,!=3.0.3,<4,>=2.4.2 in c:\\users\\work\\desktop\\it\\projects\\venv\\lib\\site-packages (from httplib2<1.0.0,>=0.19.0->google-api-python-client>=1.2->pydrive) (3.2.3)\n",
      "Requirement already satisfied: charset-normalizer<4,>=2 in c:\\users\\work\\desktop\\it\\projects\\venv\\lib\\site-packages (from requests<3.0.0,>=2.18.0->google-api-core!=2.0.*,!=2.1.*,!=2.2.*,!=2.3.0,<3.0.0,>=1.31.5->google-api-python-client>=1.2->pydrive) (3.3.2)\n",
      "Requirement already satisfied: idna<4,>=2.5 in c:\\users\\work\\desktop\\it\\projects\\venv\\lib\\site-packages (from requests<3.0.0,>=2.18.0->google-api-core!=2.0.*,!=2.1.*,!=2.2.*,!=2.3.0,<3.0.0,>=1.31.5->google-api-python-client>=1.2->pydrive) (3.7)\n",
      "Requirement already satisfied: urllib3<3,>=1.21.1 in c:\\users\\work\\desktop\\it\\projects\\venv\\lib\\site-packages (from requests<3.0.0,>=2.18.0->google-api-core!=2.0.*,!=2.1.*,!=2.2.*,!=2.3.0,<3.0.0,>=1.31.5->google-api-python-client>=1.2->pydrive) (2.2.1)\n",
      "Requirement already satisfied: certifi>=2017.4.17 in c:\\users\\work\\desktop\\it\\projects\\venv\\lib\\site-packages (from requests<3.0.0,>=2.18.0->google-api-core!=2.0.*,!=2.1.*,!=2.2.*,!=2.3.0,<3.0.0,>=1.31.5->google-api-python-client>=1.2->pydrive) (2024.2.2)\n",
      "Requirement already satisfied: pyasn1>=0.1.3 in c:\\users\\work\\desktop\\it\\projects\\venv\\lib\\site-packages (from rsa<5,>=3.1.4->google-auth!=2.24.0,!=2.25.0,<3.0.0,>=1.32.0->google-api-python-client>=1.2->pydrive) (0.6.1)\n",
      "Requirement already satisfied: six>=1.6.1 in c:\\users\\work\\desktop\\it\\projects\\venv\\lib\\site-packages (from oauth2client>=4.0.0->pydrive) (1.16.0)\n",
      "Requirement already satisfied: gdown in c:\\users\\work\\desktop\\it\\projects\\venv\\lib\\site-packages (5.2.0)\n",
      "Requirement already satisfied: beautifulsoup4 in c:\\users\\work\\desktop\\it\\projects\\venv\\lib\\site-packages (from gdown) (4.13.4)\n",
      "Requirement already satisfied: filelock in c:\\users\\work\\desktop\\it\\projects\\venv\\lib\\site-packages (from gdown) (3.14.0)\n",
      "Requirement already satisfied: requests[socks] in c:\\users\\work\\desktop\\it\\projects\\venv\\lib\\site-packages (from gdown) (2.31.0)\n",
      "Requirement already satisfied: tqdm in c:\\users\\work\\desktop\\it\\projects\\venv\\lib\\site-packages (from gdown) (4.66.4)\n",
      "Requirement already satisfied: soupsieve>1.2 in c:\\users\\work\\desktop\\it\\projects\\venv\\lib\\site-packages (from beautifulsoup4->gdown) (2.7)\n",
      "Requirement already satisfied: typing-extensions>=4.0.0 in c:\\users\\work\\desktop\\it\\projects\\venv\\lib\\site-packages (from beautifulsoup4->gdown) (4.13.2)\n",
      "Requirement already satisfied: charset-normalizer<4,>=2 in c:\\users\\work\\desktop\\it\\projects\\venv\\lib\\site-packages (from requests[socks]->gdown) (3.3.2)\n",
      "Requirement already satisfied: idna<4,>=2.5 in c:\\users\\work\\desktop\\it\\projects\\venv\\lib\\site-packages (from requests[socks]->gdown) (3.7)\n",
      "Requirement already satisfied: urllib3<3,>=1.21.1 in c:\\users\\work\\desktop\\it\\projects\\venv\\lib\\site-packages (from requests[socks]->gdown) (2.2.1)\n",
      "Requirement already satisfied: certifi>=2017.4.17 in c:\\users\\work\\desktop\\it\\projects\\venv\\lib\\site-packages (from requests[socks]->gdown) (2024.2.2)\n",
      "Requirement already satisfied: PySocks!=1.5.7,>=1.5.6 in c:\\users\\work\\desktop\\it\\projects\\venv\\lib\\site-packages (from requests[socks]->gdown) (1.7.1)\n",
      "Requirement already satisfied: colorama in c:\\users\\work\\desktop\\it\\projects\\venv\\lib\\site-packages (from tqdm->gdown) (0.4.6)\n",
      "Requirement already satisfied: rank_bm25 in c:\\users\\work\\desktop\\it\\projects\\venv\\lib\\site-packages (0.2.2)\n",
      "Requirement already satisfied: numpy in c:\\users\\work\\desktop\\it\\projects\\venv\\lib\\site-packages (from rank_bm25) (1.26.4)\n",
      "Requirement already satisfied: langchain in c:\\users\\work\\desktop\\it\\projects\\venv\\lib\\site-packages (0.3.25)\n",
      "Requirement already satisfied: langchain-core<1.0.0,>=0.3.58 in c:\\users\\work\\desktop\\it\\projects\\venv\\lib\\site-packages (from langchain) (0.3.59)\n",
      "Requirement already satisfied: langchain-text-splitters<1.0.0,>=0.3.8 in c:\\users\\work\\desktop\\it\\projects\\venv\\lib\\site-packages (from langchain) (0.3.8)\n",
      "Requirement already satisfied: langsmith<0.4,>=0.1.17 in c:\\users\\work\\desktop\\it\\projects\\venv\\lib\\site-packages (from langchain) (0.3.42)\n",
      "Requirement already satisfied: pydantic<3.0.0,>=2.7.4 in c:\\users\\work\\desktop\\it\\projects\\venv\\lib\\site-packages (from langchain) (2.11.4)\n",
      "Requirement already satisfied: SQLAlchemy<3,>=1.4 in c:\\users\\work\\desktop\\it\\projects\\venv\\lib\\site-packages (from langchain) (2.0.40)\n",
      "Requirement already satisfied: requests<3,>=2 in c:\\users\\work\\desktop\\it\\projects\\venv\\lib\\site-packages (from langchain) (2.31.0)\n",
      "Requirement already satisfied: PyYAML>=5.3 in c:\\users\\work\\desktop\\it\\projects\\venv\\lib\\site-packages (from langchain) (6.0.1)\n",
      "Requirement already satisfied: async-timeout<5.0.0,>=4.0.0 in c:\\users\\work\\desktop\\it\\projects\\venv\\lib\\site-packages (from langchain) (4.0.3)\n",
      "Requirement already satisfied: tenacity!=8.4.0,<10.0.0,>=8.1.0 in c:\\users\\work\\desktop\\it\\projects\\venv\\lib\\site-packages (from langchain-core<1.0.0,>=0.3.58->langchain) (9.1.2)\n",
      "Requirement already satisfied: jsonpatch<2.0,>=1.33 in c:\\users\\work\\desktop\\it\\projects\\venv\\lib\\site-packages (from langchain-core<1.0.0,>=0.3.58->langchain) (1.33)\n",
      "Requirement already satisfied: packaging<25,>=23.2 in c:\\users\\work\\desktop\\it\\projects\\venv\\lib\\site-packages (from langchain-core<1.0.0,>=0.3.58->langchain) (24.0)\n",
      "Requirement already satisfied: typing-extensions>=4.7 in c:\\users\\work\\desktop\\it\\projects\\venv\\lib\\site-packages (from langchain-core<1.0.0,>=0.3.58->langchain) (4.13.2)\n",
      "Requirement already satisfied: jsonpointer>=1.9 in c:\\users\\work\\desktop\\it\\projects\\venv\\lib\\site-packages (from jsonpatch<2.0,>=1.33->langchain-core<1.0.0,>=0.3.58->langchain) (3.0.0)\n",
      "Requirement already satisfied: httpx<1,>=0.23.0 in c:\\users\\work\\desktop\\it\\projects\\venv\\lib\\site-packages (from langsmith<0.4,>=0.1.17->langchain) (0.27.0)\n",
      "Requirement already satisfied: orjson<4.0.0,>=3.9.14 in c:\\users\\work\\desktop\\it\\projects\\venv\\lib\\site-packages (from langsmith<0.4,>=0.1.17->langchain) (3.10.3)\n",
      "Requirement already satisfied: requests-toolbelt<2.0.0,>=1.0.0 in c:\\users\\work\\desktop\\it\\projects\\venv\\lib\\site-packages (from langsmith<0.4,>=0.1.17->langchain) (1.0.0)\n",
      "Requirement already satisfied: zstandard<0.24.0,>=0.23.0 in c:\\users\\work\\desktop\\it\\projects\\venv\\lib\\site-packages (from langsmith<0.4,>=0.1.17->langchain) (0.23.0)\n",
      "Requirement already satisfied: anyio in c:\\users\\work\\desktop\\it\\projects\\venv\\lib\\site-packages (from httpx<1,>=0.23.0->langsmith<0.4,>=0.1.17->langchain) (4.3.0)\n",
      "Requirement already satisfied: certifi in c:\\users\\work\\desktop\\it\\projects\\venv\\lib\\site-packages (from httpx<1,>=0.23.0->langsmith<0.4,>=0.1.17->langchain) (2024.2.2)\n",
      "Requirement already satisfied: httpcore==1.* in c:\\users\\work\\desktop\\it\\projects\\venv\\lib\\site-packages (from httpx<1,>=0.23.0->langsmith<0.4,>=0.1.17->langchain) (1.0.5)\n",
      "Requirement already satisfied: idna in c:\\users\\work\\desktop\\it\\projects\\venv\\lib\\site-packages (from httpx<1,>=0.23.0->langsmith<0.4,>=0.1.17->langchain) (3.7)\n",
      "Requirement already satisfied: sniffio in c:\\users\\work\\desktop\\it\\projects\\venv\\lib\\site-packages (from httpx<1,>=0.23.0->langsmith<0.4,>=0.1.17->langchain) (1.3.1)\n",
      "Requirement already satisfied: h11<0.15,>=0.13 in c:\\users\\work\\desktop\\it\\projects\\venv\\lib\\site-packages (from httpcore==1.*->httpx<1,>=0.23.0->langsmith<0.4,>=0.1.17->langchain) (0.14.0)\n",
      "Requirement already satisfied: annotated-types>=0.6.0 in c:\\users\\work\\desktop\\it\\projects\\venv\\lib\\site-packages (from pydantic<3.0.0,>=2.7.4->langchain) (0.6.0)\n",
      "Requirement already satisfied: pydantic-core==2.33.2 in c:\\users\\work\\desktop\\it\\projects\\venv\\lib\\site-packages (from pydantic<3.0.0,>=2.7.4->langchain) (2.33.2)\n",
      "Requirement already satisfied: typing-inspection>=0.4.0 in c:\\users\\work\\desktop\\it\\projects\\venv\\lib\\site-packages (from pydantic<3.0.0,>=2.7.4->langchain) (0.4.0)\n",
      "Requirement already satisfied: charset-normalizer<4,>=2 in c:\\users\\work\\desktop\\it\\projects\\venv\\lib\\site-packages (from requests<3,>=2->langchain) (3.3.2)\n",
      "Requirement already satisfied: urllib3<3,>=1.21.1 in c:\\users\\work\\desktop\\it\\projects\\venv\\lib\\site-packages (from requests<3,>=2->langchain) (2.2.1)\n",
      "Requirement already satisfied: greenlet>=1 in c:\\users\\work\\desktop\\it\\projects\\venv\\lib\\site-packages (from SQLAlchemy<3,>=1.4->langchain) (3.2.2)\n",
      "Requirement already satisfied: exceptiongroup>=1.0.2 in c:\\users\\work\\desktop\\it\\projects\\venv\\lib\\site-packages (from anyio->httpx<1,>=0.23.0->langsmith<0.4,>=0.1.17->langchain) (1.2.1)\n",
      "Requirement already satisfied: wget in c:\\users\\work\\desktop\\it\\projects\\venv\\lib\\site-packages (3.2)\n",
      "Requirement already satisfied: bert_score in c:\\users\\work\\desktop\\it\\projects\\venv\\lib\\site-packages (0.3.13)\n",
      "Requirement already satisfied: torch>=1.0.0 in c:\\users\\work\\desktop\\it\\projects\\venv\\lib\\site-packages (from bert_score) (2.4.1)\n",
      "Requirement already satisfied: pandas>=1.0.1 in c:\\users\\work\\desktop\\it\\projects\\venv\\lib\\site-packages (from bert_score) (2.2.2)\n",
      "Requirement already satisfied: transformers>=3.0.0 in c:\\users\\work\\desktop\\it\\projects\\venv\\lib\\site-packages (from bert_score) (4.51.3)\n",
      "Requirement already satisfied: numpy in c:\\users\\work\\desktop\\it\\projects\\venv\\lib\\site-packages (from bert_score) (1.26.4)\n",
      "Requirement already satisfied: requests in c:\\users\\work\\desktop\\it\\projects\\venv\\lib\\site-packages (from bert_score) (2.31.0)\n",
      "Requirement already satisfied: tqdm>=4.31.1 in c:\\users\\work\\desktop\\it\\projects\\venv\\lib\\site-packages (from bert_score) (4.66.4)\n",
      "Requirement already satisfied: matplotlib in c:\\users\\work\\desktop\\it\\projects\\venv\\lib\\site-packages (from bert_score) (3.9.4)\n",
      "Requirement already satisfied: packaging>=20.9 in c:\\users\\work\\desktop\\it\\projects\\venv\\lib\\site-packages (from bert_score) (24.0)\n",
      "Requirement already satisfied: python-dateutil>=2.8.2 in c:\\users\\work\\desktop\\it\\projects\\venv\\lib\\site-packages (from pandas>=1.0.1->bert_score) (2.9.0.post0)\n",
      "Requirement already satisfied: pytz>=2020.1 in c:\\users\\work\\desktop\\it\\projects\\venv\\lib\\site-packages (from pandas>=1.0.1->bert_score) (2024.1)\n",
      "Requirement already satisfied: tzdata>=2022.7 in c:\\users\\work\\desktop\\it\\projects\\venv\\lib\\site-packages (from pandas>=1.0.1->bert_score) (2024.1)\n",
      "Requirement already satisfied: six>=1.5 in c:\\users\\work\\desktop\\it\\projects\\venv\\lib\\site-packages (from python-dateutil>=2.8.2->pandas>=1.0.1->bert_score) (1.16.0)\n",
      "Requirement already satisfied: filelock in c:\\users\\work\\desktop\\it\\projects\\venv\\lib\\site-packages (from torch>=1.0.0->bert_score) (3.14.0)\n",
      "Requirement already satisfied: typing-extensions>=4.8.0 in c:\\users\\work\\desktop\\it\\projects\\venv\\lib\\site-packages (from torch>=1.0.0->bert_score) (4.13.2)\n",
      "Requirement already satisfied: sympy in c:\\users\\work\\desktop\\it\\projects\\venv\\lib\\site-packages (from torch>=1.0.0->bert_score) (1.12)\n",
      "Requirement already satisfied: networkx in c:\\users\\work\\desktop\\it\\projects\\venv\\lib\\site-packages (from torch>=1.0.0->bert_score) (3.2.1)\n",
      "Requirement already satisfied: jinja2 in c:\\users\\work\\desktop\\it\\projects\\venv\\lib\\site-packages (from torch>=1.0.0->bert_score) (3.1.4)\n",
      "Requirement already satisfied: fsspec in c:\\users\\work\\desktop\\it\\projects\\venv\\lib\\site-packages (from torch>=1.0.0->bert_score) (2024.5.0)\n",
      "Requirement already satisfied: colorama in c:\\users\\work\\desktop\\it\\projects\\venv\\lib\\site-packages (from tqdm>=4.31.1->bert_score) (0.4.6)\n",
      "Requirement already satisfied: huggingface-hub<1.0,>=0.30.0 in c:\\users\\work\\desktop\\it\\projects\\venv\\lib\\site-packages (from transformers>=3.0.0->bert_score) (0.31.1)\n",
      "Requirement already satisfied: pyyaml>=5.1 in c:\\users\\work\\desktop\\it\\projects\\venv\\lib\\site-packages (from transformers>=3.0.0->bert_score) (6.0.1)\n",
      "Requirement already satisfied: regex!=2019.12.17 in c:\\users\\work\\desktop\\it\\projects\\venv\\lib\\site-packages (from transformers>=3.0.0->bert_score) (2024.5.15)\n",
      "Requirement already satisfied: tokenizers<0.22,>=0.21 in c:\\users\\work\\desktop\\it\\projects\\venv\\lib\\site-packages (from transformers>=3.0.0->bert_score) (0.21.1)\n",
      "Requirement already satisfied: safetensors>=0.4.3 in c:\\users\\work\\desktop\\it\\projects\\venv\\lib\\site-packages (from transformers>=3.0.0->bert_score) (0.4.3)\n",
      "Requirement already satisfied: MarkupSafe>=2.0 in c:\\users\\work\\desktop\\it\\projects\\venv\\lib\\site-packages (from jinja2->torch>=1.0.0->bert_score) (2.1.5)\n",
      "Requirement already satisfied: contourpy>=1.0.1 in c:\\users\\work\\desktop\\it\\projects\\venv\\lib\\site-packages (from matplotlib->bert_score) (1.3.0)\n",
      "Requirement already satisfied: cycler>=0.10 in c:\\users\\work\\desktop\\it\\projects\\venv\\lib\\site-packages (from matplotlib->bert_score) (0.12.1)\n",
      "Requirement already satisfied: fonttools>=4.22.0 in c:\\users\\work\\desktop\\it\\projects\\venv\\lib\\site-packages (from matplotlib->bert_score) (4.57.0)\n",
      "Requirement already satisfied: kiwisolver>=1.3.1 in c:\\users\\work\\desktop\\it\\projects\\venv\\lib\\site-packages (from matplotlib->bert_score) (1.4.7)\n",
      "Requirement already satisfied: pillow>=8 in c:\\users\\work\\desktop\\it\\projects\\venv\\lib\\site-packages (from matplotlib->bert_score) (11.2.1)\n",
      "Requirement already satisfied: pyparsing>=2.3.1 in c:\\users\\work\\desktop\\it\\projects\\venv\\lib\\site-packages (from matplotlib->bert_score) (3.2.3)\n",
      "Requirement already satisfied: importlib-resources>=3.2.0 in c:\\users\\work\\desktop\\it\\projects\\venv\\lib\\site-packages (from matplotlib->bert_score) (6.5.2)\n",
      "Requirement already satisfied: zipp>=3.1.0 in c:\\users\\work\\desktop\\it\\projects\\venv\\lib\\site-packages (from importlib-resources>=3.2.0->matplotlib->bert_score) (3.21.0)\n",
      "Requirement already satisfied: charset-normalizer<4,>=2 in c:\\users\\work\\desktop\\it\\projects\\venv\\lib\\site-packages (from requests->bert_score) (3.3.2)\n",
      "Requirement already satisfied: idna<4,>=2.5 in c:\\users\\work\\desktop\\it\\projects\\venv\\lib\\site-packages (from requests->bert_score) (3.7)\n",
      "Requirement already satisfied: urllib3<3,>=1.21.1 in c:\\users\\work\\desktop\\it\\projects\\venv\\lib\\site-packages (from requests->bert_score) (2.2.1)\n",
      "Requirement already satisfied: certifi>=2017.4.17 in c:\\users\\work\\desktop\\it\\projects\\venv\\lib\\site-packages (from requests->bert_score) (2024.2.2)\n",
      "Requirement already satisfied: mpmath>=0.19 in c:\\users\\work\\desktop\\it\\projects\\venv\\lib\\site-packages (from sympy->torch>=1.0.0->bert_score) (1.3.0)\n"
     ]
    },
    {
     "name": "stderr",
     "output_type": "stream",
     "text": [
      "ERROR: Could not find a version that satisfies the requirement faiss-gpu (from versions: none)\n",
      "ERROR: No matching distribution found for faiss-gpu\n"
     ]
    },
    {
     "name": "stdout",
     "output_type": "stream",
     "text": [
      "Requirement already satisfied: seaborn in c:\\users\\work\\desktop\\it\\projects\\venv\\lib\\site-packages (0.13.2)\n",
      "Requirement already satisfied: numpy!=1.24.0,>=1.20 in c:\\users\\work\\desktop\\it\\projects\\venv\\lib\\site-packages (from seaborn) (1.26.4)\n",
      "Requirement already satisfied: pandas>=1.2 in c:\\users\\work\\desktop\\it\\projects\\venv\\lib\\site-packages (from seaborn) (2.2.2)\n",
      "Requirement already satisfied: matplotlib!=3.6.1,>=3.4 in c:\\users\\work\\desktop\\it\\projects\\venv\\lib\\site-packages (from seaborn) (3.9.4)\n",
      "Requirement already satisfied: contourpy>=1.0.1 in c:\\users\\work\\desktop\\it\\projects\\venv\\lib\\site-packages (from matplotlib!=3.6.1,>=3.4->seaborn) (1.3.0)\n",
      "Requirement already satisfied: cycler>=0.10 in c:\\users\\work\\desktop\\it\\projects\\venv\\lib\\site-packages (from matplotlib!=3.6.1,>=3.4->seaborn) (0.12.1)\n",
      "Requirement already satisfied: fonttools>=4.22.0 in c:\\users\\work\\desktop\\it\\projects\\venv\\lib\\site-packages (from matplotlib!=3.6.1,>=3.4->seaborn) (4.57.0)\n",
      "Requirement already satisfied: kiwisolver>=1.3.1 in c:\\users\\work\\desktop\\it\\projects\\venv\\lib\\site-packages (from matplotlib!=3.6.1,>=3.4->seaborn) (1.4.7)\n",
      "Requirement already satisfied: packaging>=20.0 in c:\\users\\work\\desktop\\it\\projects\\venv\\lib\\site-packages (from matplotlib!=3.6.1,>=3.4->seaborn) (24.0)\n",
      "Requirement already satisfied: pillow>=8 in c:\\users\\work\\desktop\\it\\projects\\venv\\lib\\site-packages (from matplotlib!=3.6.1,>=3.4->seaborn) (11.2.1)\n",
      "Requirement already satisfied: pyparsing>=2.3.1 in c:\\users\\work\\desktop\\it\\projects\\venv\\lib\\site-packages (from matplotlib!=3.6.1,>=3.4->seaborn) (3.2.3)\n",
      "Requirement already satisfied: python-dateutil>=2.7 in c:\\users\\work\\desktop\\it\\projects\\venv\\lib\\site-packages (from matplotlib!=3.6.1,>=3.4->seaborn) (2.9.0.post0)\n",
      "Requirement already satisfied: importlib-resources>=3.2.0 in c:\\users\\work\\desktop\\it\\projects\\venv\\lib\\site-packages (from matplotlib!=3.6.1,>=3.4->seaborn) (6.5.2)\n",
      "Requirement already satisfied: zipp>=3.1.0 in c:\\users\\work\\desktop\\it\\projects\\venv\\lib\\site-packages (from importlib-resources>=3.2.0->matplotlib!=3.6.1,>=3.4->seaborn) (3.21.0)\n",
      "Requirement already satisfied: pytz>=2020.1 in c:\\users\\work\\desktop\\it\\projects\\venv\\lib\\site-packages (from pandas>=1.2->seaborn) (2024.1)\n",
      "Requirement already satisfied: tzdata>=2022.7 in c:\\users\\work\\desktop\\it\\projects\\venv\\lib\\site-packages (from pandas>=1.2->seaborn) (2024.1)\n",
      "Requirement already satisfied: six>=1.5 in c:\\users\\work\\desktop\\it\\projects\\venv\\lib\\site-packages (from python-dateutil>=2.7->matplotlib!=3.6.1,>=3.4->seaborn) (1.16.0)\n"
     ]
    }
   ],
   "source": [
    "!pip install bitsandbytes\n",
    "!pip install sentence_transformers\n",
    "!pip install pydrive\n",
    "!pip install gdown\n",
    "!pip install rank_bm25\n",
    "!pip install langchain\n",
    "!pip install wget\n",
    "!pip install bert_score\n",
    "!pip install faiss-gpu\n",
    "!pip install seaborn"
   ]
  },
  {
   "cell_type": "code",
   "execution_count": 3,
   "metadata": {
    "scrolled": true
   },
   "outputs": [
    {
     "name": "stdout",
     "output_type": "stream",
     "text": [
      "Requirement already satisfied: langchain-community in c:\\users\\work\\desktop\\it\\projects\\venv\\lib\\site-packages (0.3.23)\n",
      "Requirement already satisfied: langchain-core<1.0.0,>=0.3.56 in c:\\users\\work\\desktop\\it\\projects\\venv\\lib\\site-packages (from langchain-community) (0.3.59)\n",
      "Requirement already satisfied: langchain<1.0.0,>=0.3.24 in c:\\users\\work\\desktop\\it\\projects\\venv\\lib\\site-packages (from langchain-community) (0.3.25)\n",
      "Requirement already satisfied: SQLAlchemy<3,>=1.4 in c:\\users\\work\\desktop\\it\\projects\\venv\\lib\\site-packages (from langchain-community) (2.0.40)\n",
      "Requirement already satisfied: requests<3,>=2 in c:\\users\\work\\desktop\\it\\projects\\venv\\lib\\site-packages (from langchain-community) (2.31.0)\n",
      "Requirement already satisfied: PyYAML>=5.3 in c:\\users\\work\\desktop\\it\\projects\\venv\\lib\\site-packages (from langchain-community) (6.0.1)\n",
      "Requirement already satisfied: aiohttp<4.0.0,>=3.8.3 in c:\\users\\work\\desktop\\it\\projects\\venv\\lib\\site-packages (from langchain-community) (3.11.18)\n",
      "Requirement already satisfied: tenacity!=8.4.0,<10,>=8.1.0 in c:\\users\\work\\desktop\\it\\projects\\venv\\lib\\site-packages (from langchain-community) (9.1.2)\n",
      "Requirement already satisfied: dataclasses-json<0.7,>=0.5.7 in c:\\users\\work\\desktop\\it\\projects\\venv\\lib\\site-packages (from langchain-community) (0.6.7)\n",
      "Requirement already satisfied: pydantic-settings<3.0.0,>=2.4.0 in c:\\users\\work\\desktop\\it\\projects\\venv\\lib\\site-packages (from langchain-community) (2.9.1)\n",
      "Requirement already satisfied: langsmith<0.4,>=0.1.125 in c:\\users\\work\\desktop\\it\\projects\\venv\\lib\\site-packages (from langchain-community) (0.3.42)\n",
      "Requirement already satisfied: httpx-sse<1.0.0,>=0.4.0 in c:\\users\\work\\desktop\\it\\projects\\venv\\lib\\site-packages (from langchain-community) (0.4.0)\n",
      "Requirement already satisfied: numpy>=1.26.2 in c:\\users\\work\\desktop\\it\\projects\\venv\\lib\\site-packages (from langchain-community) (1.26.4)\n",
      "Requirement already satisfied: aiohappyeyeballs>=2.3.0 in c:\\users\\work\\desktop\\it\\projects\\venv\\lib\\site-packages (from aiohttp<4.0.0,>=3.8.3->langchain-community) (2.6.1)\n",
      "Requirement already satisfied: aiosignal>=1.1.2 in c:\\users\\work\\desktop\\it\\projects\\venv\\lib\\site-packages (from aiohttp<4.0.0,>=3.8.3->langchain-community) (1.3.2)\n",
      "Requirement already satisfied: async-timeout<6.0,>=4.0 in c:\\users\\work\\desktop\\it\\projects\\venv\\lib\\site-packages (from aiohttp<4.0.0,>=3.8.3->langchain-community) (4.0.3)\n",
      "Requirement already satisfied: attrs>=17.3.0 in c:\\users\\work\\desktop\\it\\projects\\venv\\lib\\site-packages (from aiohttp<4.0.0,>=3.8.3->langchain-community) (25.3.0)\n",
      "Requirement already satisfied: frozenlist>=1.1.1 in c:\\users\\work\\desktop\\it\\projects\\venv\\lib\\site-packages (from aiohttp<4.0.0,>=3.8.3->langchain-community) (1.6.0)\n",
      "Requirement already satisfied: multidict<7.0,>=4.5 in c:\\users\\work\\desktop\\it\\projects\\venv\\lib\\site-packages (from aiohttp<4.0.0,>=3.8.3->langchain-community) (6.4.3)\n",
      "Requirement already satisfied: propcache>=0.2.0 in c:\\users\\work\\desktop\\it\\projects\\venv\\lib\\site-packages (from aiohttp<4.0.0,>=3.8.3->langchain-community) (0.3.1)\n",
      "Requirement already satisfied: yarl<2.0,>=1.17.0 in c:\\users\\work\\desktop\\it\\projects\\venv\\lib\\site-packages (from aiohttp<4.0.0,>=3.8.3->langchain-community) (1.20.0)\n",
      "Requirement already satisfied: marshmallow<4.0.0,>=3.18.0 in c:\\users\\work\\desktop\\it\\projects\\venv\\lib\\site-packages (from dataclasses-json<0.7,>=0.5.7->langchain-community) (3.26.1)\n",
      "Requirement already satisfied: typing-inspect<1,>=0.4.0 in c:\\users\\work\\desktop\\it\\projects\\venv\\lib\\site-packages (from dataclasses-json<0.7,>=0.5.7->langchain-community) (0.9.0)\n",
      "Requirement already satisfied: langchain-text-splitters<1.0.0,>=0.3.8 in c:\\users\\work\\desktop\\it\\projects\\venv\\lib\\site-packages (from langchain<1.0.0,>=0.3.24->langchain-community) (0.3.8)\n",
      "Requirement already satisfied: pydantic<3.0.0,>=2.7.4 in c:\\users\\work\\desktop\\it\\projects\\venv\\lib\\site-packages (from langchain<1.0.0,>=0.3.24->langchain-community) (2.11.4)\n",
      "Requirement already satisfied: jsonpatch<2.0,>=1.33 in c:\\users\\work\\desktop\\it\\projects\\venv\\lib\\site-packages (from langchain-core<1.0.0,>=0.3.56->langchain-community) (1.33)\n",
      "Requirement already satisfied: packaging<25,>=23.2 in c:\\users\\work\\desktop\\it\\projects\\venv\\lib\\site-packages (from langchain-core<1.0.0,>=0.3.56->langchain-community) (24.0)\n",
      "Requirement already satisfied: typing-extensions>=4.7 in c:\\users\\work\\desktop\\it\\projects\\venv\\lib\\site-packages (from langchain-core<1.0.0,>=0.3.56->langchain-community) (4.13.2)\n",
      "Requirement already satisfied: jsonpointer>=1.9 in c:\\users\\work\\desktop\\it\\projects\\venv\\lib\\site-packages (from jsonpatch<2.0,>=1.33->langchain-core<1.0.0,>=0.3.56->langchain-community) (3.0.0)\n",
      "Requirement already satisfied: httpx<1,>=0.23.0 in c:\\users\\work\\desktop\\it\\projects\\venv\\lib\\site-packages (from langsmith<0.4,>=0.1.125->langchain-community) (0.27.0)\n",
      "Requirement already satisfied: orjson<4.0.0,>=3.9.14 in c:\\users\\work\\desktop\\it\\projects\\venv\\lib\\site-packages (from langsmith<0.4,>=0.1.125->langchain-community) (3.10.3)\n",
      "Requirement already satisfied: requests-toolbelt<2.0.0,>=1.0.0 in c:\\users\\work\\desktop\\it\\projects\\venv\\lib\\site-packages (from langsmith<0.4,>=0.1.125->langchain-community) (1.0.0)\n",
      "Requirement already satisfied: zstandard<0.24.0,>=0.23.0 in c:\\users\\work\\desktop\\it\\projects\\venv\\lib\\site-packages (from langsmith<0.4,>=0.1.125->langchain-community) (0.23.0)\n",
      "Requirement already satisfied: anyio in c:\\users\\work\\desktop\\it\\projects\\venv\\lib\\site-packages (from httpx<1,>=0.23.0->langsmith<0.4,>=0.1.125->langchain-community) (4.3.0)\n",
      "Requirement already satisfied: certifi in c:\\users\\work\\desktop\\it\\projects\\venv\\lib\\site-packages (from httpx<1,>=0.23.0->langsmith<0.4,>=0.1.125->langchain-community) (2024.2.2)\n",
      "Requirement already satisfied: httpcore==1.* in c:\\users\\work\\desktop\\it\\projects\\venv\\lib\\site-packages (from httpx<1,>=0.23.0->langsmith<0.4,>=0.1.125->langchain-community) (1.0.5)\n",
      "Requirement already satisfied: idna in c:\\users\\work\\desktop\\it\\projects\\venv\\lib\\site-packages (from httpx<1,>=0.23.0->langsmith<0.4,>=0.1.125->langchain-community) (3.7)\n",
      "Requirement already satisfied: sniffio in c:\\users\\work\\desktop\\it\\projects\\venv\\lib\\site-packages (from httpx<1,>=0.23.0->langsmith<0.4,>=0.1.125->langchain-community) (1.3.1)\n",
      "Requirement already satisfied: h11<0.15,>=0.13 in c:\\users\\work\\desktop\\it\\projects\\venv\\lib\\site-packages (from httpcore==1.*->httpx<1,>=0.23.0->langsmith<0.4,>=0.1.125->langchain-community) (0.14.0)\n",
      "Requirement already satisfied: annotated-types>=0.6.0 in c:\\users\\work\\desktop\\it\\projects\\venv\\lib\\site-packages (from pydantic<3.0.0,>=2.7.4->langchain<1.0.0,>=0.3.24->langchain-community) (0.6.0)\n",
      "Requirement already satisfied: pydantic-core==2.33.2 in c:\\users\\work\\desktop\\it\\projects\\venv\\lib\\site-packages (from pydantic<3.0.0,>=2.7.4->langchain<1.0.0,>=0.3.24->langchain-community) (2.33.2)\n",
      "Requirement already satisfied: typing-inspection>=0.4.0 in c:\\users\\work\\desktop\\it\\projects\\venv\\lib\\site-packages (from pydantic<3.0.0,>=2.7.4->langchain<1.0.0,>=0.3.24->langchain-community) (0.4.0)\n",
      "Requirement already satisfied: python-dotenv>=0.21.0 in c:\\users\\work\\desktop\\it\\projects\\venv\\lib\\site-packages (from pydantic-settings<3.0.0,>=2.4.0->langchain-community) (1.0.1)\n",
      "Requirement already satisfied: charset-normalizer<4,>=2 in c:\\users\\work\\desktop\\it\\projects\\venv\\lib\\site-packages (from requests<3,>=2->langchain-community) (3.3.2)\n",
      "Requirement already satisfied: urllib3<3,>=1.21.1 in c:\\users\\work\\desktop\\it\\projects\\venv\\lib\\site-packages (from requests<3,>=2->langchain-community) (2.2.1)\n",
      "Requirement already satisfied: greenlet>=1 in c:\\users\\work\\desktop\\it\\projects\\venv\\lib\\site-packages (from SQLAlchemy<3,>=1.4->langchain-community) (3.2.2)\n",
      "Requirement already satisfied: mypy-extensions>=0.3.0 in c:\\users\\work\\desktop\\it\\projects\\venv\\lib\\site-packages (from typing-inspect<1,>=0.4.0->dataclasses-json<0.7,>=0.5.7->langchain-community) (1.1.0)\n",
      "Requirement already satisfied: exceptiongroup>=1.0.2 in c:\\users\\work\\desktop\\it\\projects\\venv\\lib\\site-packages (from anyio->httpx<1,>=0.23.0->langsmith<0.4,>=0.1.125->langchain-community) (1.2.1)\n"
     ]
    }
   ],
   "source": [
    "!pip install -U langchain-community"
   ]
  },
  {
   "cell_type": "code",
   "execution_count": 4,
   "metadata": {
    "id": "MY09JVwB3ym7",
    "outputId": "c84a9f1a-403d-4598-8c65-7f093b6a995e"
   },
   "outputs": [],
   "source": [
    "import pandas as pd\n",
    "import numpy as np\n",
    "import seaborn as sns\n",
    "import gdown\n",
    "import random\n",
    "import time\n",
    "import re\n",
    "\n",
    "from transformers import BertTokenizer, BertModel\n",
    "from langchain.retrievers import BM25Retriever, EnsembleRetriever\n",
    "from langchain.vectorstores.faiss import FAISS\n",
    "from sklearn.feature_extraction.text import CountVectorizer, TfidfVectorizer, TfidfTransformer\n",
    "from rank_bm25 import BM25Okapi\n",
    "from transformers import AutoModelForCausalLM, AutoTokenizer, AutoModel\n",
    "from langchain.prompts import PromptTemplate\n",
    "from langchain.vectorstores.faiss import FAISS\n",
    "from langchain.embeddings import HuggingFaceEmbeddings\n",
    "from langchain.retrievers import EnsembleRetriever, BM25Retriever\n",
    "from typing import List, Coroutine, Any\n",
    "from transformers import AutoModelForCausalLM, AutoTokenizer, pipeline\n",
    "\n",
    "import warnings\n",
    "warnings.filterwarnings(\"ignore\")"
   ]
  },
  {
   "cell_type": "code",
   "execution_count": 5,
   "metadata": {
    "id": "A2vVos61xGEk"
   },
   "outputs": [],
   "source": [
    "from IPython.display import Image\n",
    "import requests"
   ]
  },
  {
   "cell_type": "code",
   "execution_count": 6,
   "metadata": {
    "id": "NxDH1do-xGEl",
    "outputId": "83dfd707-a234-4344-bf17-7a08ce97e789"
   },
   "outputs": [
    {
     "name": "stderr",
     "output_type": "stream",
     "text": [
      "Downloading...\n",
      "From: https://drive.google.com/uc?id=1fCvwaS-u4MtSo8z_vqzsfJGc8D9_ZEn0\n",
      "To: C:\\Users\\WORK\\Desktop\\IT\\Projects\\WB\\df_knowledge_base_4.2.xlsx\n",
      "100%|███████████████████████████████████████████████████████████████████████████████| 394k/394k [00:00<00:00, 3.56MB/s]\n"
     ]
    }
   ],
   "source": [
    "# URL файла на Google Диске\n",
    "file_url = \"https://drive.google.com/uc?id=1fCvwaS-u4MtSo8z_vqzsfJGc8D9_ZEn0\"\n",
    "\n",
    "# Загрузка файла с помощью gdown\n",
    "gdown.download(file_url, output=\"df_knowledge_base_4.2.xlsx\")\n",
    "\n",
    "# Чтение данных из Excel файла в датафрейм\n",
    "df_knowledge_base = pd.read_excel(\"df_knowledge_base_4.2.xlsx\")"
   ]
  },
  {
   "cell_type": "code",
   "execution_count": 7,
   "metadata": {
    "id": "7fFKdwQoxGEl",
    "outputId": "8c3f4dad-0004-4bbf-f10c-e4f8fe7dc626"
   },
   "outputs": [
    {
     "name": "stderr",
     "output_type": "stream",
     "text": [
      "Downloading...\n",
      "From: https://drive.google.com/uc?id=136c244E3ihfmAu3znJvEPR9WngEXl5Om\n",
      "To: C:\\Users\\WORK\\Desktop\\IT\\Projects\\WB\\df_QA_pairs_3.2.xlsx\n",
      "100%|█████████████████████████████████████████████████████████████████████████████| 1.59M/1.59M [00:00<00:00, 9.10MB/s]\n"
     ]
    }
   ],
   "source": [
    "# URL файла на Google Диске\n",
    "file_url = \"https://drive.google.com/uc?id=136c244E3ihfmAu3znJvEPR9WngEXl5Om\"\n",
    "\n",
    "# Загрузка файла с помощью gdown\n",
    "gdown.download(file_url, output=\"df_QA_pairs_3.2.xlsx\")\n",
    "\n",
    "# Чтение данных из Excel файла в датафрейм\n",
    "df_QA_pairs = pd.read_excel(\"df_QA_pairs_3.2.xlsx\")"
   ]
  },
  {
   "cell_type": "code",
   "execution_count": 8,
   "metadata": {
    "id": "ZL13FGRSxGEl",
    "outputId": "19064551-37c9-49d3-ea25-bb525a158ad4"
   },
   "outputs": [
    {
     "name": "stderr",
     "output_type": "stream",
     "text": [
      "Downloading...\n",
      "From: https://drive.google.com/uc?id=1_RQFWzawp1kp-Uy2075eRaJ6ZB-XtCbs\n",
      "To: C:\\Users\\WORK\\Desktop\\IT\\Projects\\WB\\Structure_RAG.jpg\n",
      "100%|███████████████████████████████████████████████████████████████████████████████| 334k/334k [00:00<00:00, 1.49MB/s]\n"
     ]
    },
    {
     "data": {
      "text/plain": [
       "'Structure_RAG.jpg'"
      ]
     },
     "execution_count": 8,
     "metadata": {},
     "output_type": "execute_result"
    }
   ],
   "source": [
    "gdown.download('https://drive.google.com/uc?id=1_RQFWzawp1kp-Uy2075eRaJ6ZB-XtCbs', output=\"Structure_RAG.jpg\")\n",
    "# Image(filename='/kaggle/working/Structure_RAG.jpg')"
   ]
  },
  {
   "cell_type": "markdown",
   "metadata": {
    "id": "hXZ9HKE0xGEm"
   },
   "source": [
    "## 5.2. Реализация модуля retrieval"
   ]
  },
  {
   "cell_type": "code",
   "execution_count": 9,
   "metadata": {
    "id": "HifnwHSixGEm"
   },
   "outputs": [],
   "source": [
    "class HuggingFaceEmbeddings(HuggingFaceEmbeddings):\n",
    "    def embed_query(self, text: str) -> List[float]:\n",
    "        text = f'query: {text}'\n",
    "        return super().embed_query(text)\n",
    "\n",
    "    def embed_documents(self, texts: List[str]) -> List[List[float]]:\n",
    "        texts = [f'passage: {text}' for text in texts]\n",
    "        return super().embed_documents(texts)\n",
    "\n",
    "    async def aembed_query(self, text: str) -> Coroutine[Any, Any, List[float]]:\n",
    "        text = f'query: {text}'\n",
    "        return await super().aembed_query(text)\n",
    "\n",
    "    async def aembed_documents(self, texts: List[str]) -> Coroutine[Any, Any, List[List[float]]]:\n",
    "        texts = [f'passage: {text}' for text in texts]\n",
    "        return await super().aembed_documents(texts)"
   ]
  },
  {
   "cell_type": "code",
   "execution_count": 10,
   "metadata": {},
   "outputs": [
    {
     "name": "stderr",
     "output_type": "stream",
     "text": [
      "ERROR: Could not find a version that satisfies the requirement faiss-gpu (from versions: none)\n",
      "ERROR: No matching distribution found for faiss-gpu\n"
     ]
    }
   ],
   "source": [
    "!pip install faiss-gpu"
   ]
  },
  {
   "cell_type": "code",
   "execution_count": 12,
   "metadata": {},
   "outputs": [
    {
     "name": "stdout",
     "output_type": "stream",
     "text": [
      "Collecting faiss-cpu\n",
      "  Downloading faiss_cpu-1.11.0-cp39-cp39-win_amd64.whl.metadata (5.0 kB)\n",
      "Requirement already satisfied: numpy<3.0,>=1.25.0 in c:\\users\\work\\desktop\\it\\projects\\venv\\lib\\site-packages (from faiss-cpu) (1.26.4)\n",
      "Requirement already satisfied: packaging in c:\\users\\work\\desktop\\it\\projects\\venv\\lib\\site-packages (from faiss-cpu) (24.0)\n",
      "Downloading faiss_cpu-1.11.0-cp39-cp39-win_amd64.whl (15.0 MB)\n",
      "   ---------------------------------------- 0.0/15.0 MB ? eta -:--:--\n",
      "   ----------- ---------------------------- 4.5/15.0 MB 33.6 MB/s eta 0:00:01\n",
      "   ------------------ --------------------- 6.8/15.0 MB 20.9 MB/s eta 0:00:01\n",
      "   ---------------------------------------- 15.0/15.0 MB 30.4 MB/s eta 0:00:00\n",
      "Installing collected packages: faiss-cpu\n",
      "Successfully installed faiss-cpu-1.11.0\n"
     ]
    }
   ],
   "source": [
    "!pip install faiss-cpu"
   ]
  },
  {
   "cell_type": "code",
   "execution_count": 13,
   "metadata": {
    "colab": {
     "referenced_widgets": [
      "1069d15775504857ad9494d2ac8c8d64",
      "0f93615169d843ee82b495c960c45e71",
      "d595ace730164060be94975a4bb4390f",
      "a47b4d28c7364a0a83e423da75141f29",
      "bf8cca68a25a4aa696df34e53c37ca37",
      "c9d059a68b284d72b98ed51bd712c991",
      "33f72e8f36f64ae7b14ca6166ed69b18",
      "98debcc39edb4b8d88c97760c156bfb0",
      "4026a0529917495baeef5b8ca15fa21b",
      "c293d78972e04d78806c8acbaca40dd7"
     ]
    },
    "id": "VVJt66rJxGEm",
    "outputId": "766f2d66-d7aa-4bfd-8091-3deec059d386"
   },
   "outputs": [],
   "source": [
    "embedding_e5 = HuggingFaceEmbeddings(model_name='intfloat/multilingual-e5-large')\n",
    "# Инициализируем векторную БД\n",
    "text_chunk = df_knowledge_base['chunk'].tolist()\n",
    "faiss_vectorbase_e5=FAISS.from_texts(text_chunk, embedding_e5)"
   ]
  },
  {
   "cell_type": "code",
   "execution_count": 14,
   "metadata": {
    "id": "DRWyJhYbxGEm"
   },
   "outputs": [],
   "source": [
    "bm25 = BM25Retriever.from_texts(text_chunk)\n",
    "bm25.k = 1\n",
    "faiss_retriever_e5 = faiss_vectorbase_e5.as_retriever(search_kwargs={'k': 1})"
   ]
  },
  {
   "cell_type": "code",
   "execution_count": 15,
   "metadata": {
    "id": "A7VGmE7sxGEm"
   },
   "outputs": [],
   "source": [
    "ensemble_retriever = EnsembleRetriever(retrievers=[bm25, faiss_retriever_e5], weidgts=[0.2, 0.8])"
   ]
  },
  {
   "cell_type": "markdown",
   "metadata": {
    "id": "wz3-Te_mxGEn"
   },
   "source": [
    "### Итоги:\n",
    "\n",
    "Была создана векторная база данных и выбран в качестве ретривера - гибридный поиск на основе bm25 (текстовый поиск) и e5 (векторного поиска в векторной базе данных faiss)."
   ]
  },
  {
   "cell_type": "markdown",
   "metadata": {
    "id": "RNRyJgx7xGEn"
   },
   "source": [
    "## 5.3. Рeализация модуля generation"
   ]
  },
  {
   "cell_type": "code",
   "execution_count": 16,
   "metadata": {
    "colab": {
     "referenced_widgets": [
      "305a16a355f546ec95133430925abb6d",
      "a0b566675e4f4899afec58bd43585e53",
      "b37e45cc64de4cbe8a555c7569aae857",
      "684bbabb6ade4942895883c8854d23f7",
      "095fc12fd3ce4310bb2fb298f708b7de",
      "7f9d976d13f340ea8fa3d33df1691106",
      "d4e6c3af293a41fd85ebac98887461c2",
      "5b2115ee8a814c7fbea77d6c417bef1e",
      "d2d215a00752430dbff353d2c54dda9c",
      "591fcf2c31dd47809a3197736074e08c",
      "3c8dcfcdbbab4102b35377ccb89047f3",
      "a4bda2da08ca4e28bd7ebee67707e3f0",
      "0bcb9fa792aa473cb632971cc19b8450"
     ]
    },
    "id": "jTAMvf_z35G6",
    "outputId": "8e8ff174-209a-4c85-aaf8-6e2f0da947fd"
   },
   "outputs": [
    {
     "data": {
      "application/vnd.jupyter.widget-view+json": {
       "model_id": "cee7d4d748804ee9a6f90e733f861b5d",
       "version_major": 2,
       "version_minor": 0
      },
      "text/plain": [
       "tokenizer_config.json:   0%|          | 0.00/1.62k [00:00<?, ?B/s]"
      ]
     },
     "metadata": {},
     "output_type": "display_data"
    },
    {
     "data": {
      "application/vnd.jupyter.widget-view+json": {
       "model_id": "18e421dc1ce3490ea90a05f6b0c62b40",
       "version_major": 2,
       "version_minor": 0
      },
      "text/plain": [
       "tokenizer.model:   0%|          | 0.00/493k [00:00<?, ?B/s]"
      ]
     },
     "metadata": {},
     "output_type": "display_data"
    },
    {
     "data": {
      "application/vnd.jupyter.widget-view+json": {
       "model_id": "c1cbf920299d4683bc000f6638d61c04",
       "version_major": 2,
       "version_minor": 0
      },
      "text/plain": [
       "tokenizer.json:   0%|          | 0.00/1.80M [00:00<?, ?B/s]"
      ]
     },
     "metadata": {},
     "output_type": "display_data"
    },
    {
     "data": {
      "application/vnd.jupyter.widget-view+json": {
       "model_id": "4e95fb47958646e1bc17b92b7c273409",
       "version_major": 2,
       "version_minor": 0
      },
      "text/plain": [
       "added_tokens.json:   0%|          | 0.00/53.0 [00:00<?, ?B/s]"
      ]
     },
     "metadata": {},
     "output_type": "display_data"
    },
    {
     "data": {
      "application/vnd.jupyter.widget-view+json": {
       "model_id": "5ec816da62ab4726be467e1d533111e3",
       "version_major": 2,
       "version_minor": 0
      },
      "text/plain": [
       "special_tokens_map.json:   0%|          | 0.00/491 [00:00<?, ?B/s]"
      ]
     },
     "metadata": {},
     "output_type": "display_data"
    },
    {
     "data": {
      "application/vnd.jupyter.widget-view+json": {
       "model_id": "baefec82f2304e56b6cd62be56e21ffa",
       "version_major": 2,
       "version_minor": 0
      },
      "text/plain": [
       "config.json:   0%|          | 0.00/651 [00:00<?, ?B/s]"
      ]
     },
     "metadata": {},
     "output_type": "display_data"
    },
    {
     "name": "stderr",
     "output_type": "stream",
     "text": [
      "The `load_in_4bit` and `load_in_8bit` arguments are deprecated and will be removed in the future versions. Please, pass a `BitsAndBytesConfig` object in `quantization_config` argument instead.\n",
      "The installed version of bitsandbytes was compiled without GPU support. 8-bit optimizers, 8-bit multiplication, and GPU quantization are unavailable.\n",
      "CUDA is required but not available for bitsandbytes. Please consider installing the multi-platform enabled version of bitsandbytes, which is currently a work in progress. Please check currently supported platforms and installation instructions at https://huggingface.co/docs/bitsandbytes/main/en/installation#multi-backend\n"
     ]
    },
    {
     "ename": "RuntimeError",
     "evalue": "CUDA is required but not available for bitsandbytes. Please consider installing the multi-platform enabled version of bitsandbytes, which is currently a work in progress. Please check currently supported platforms and installation instructions at https://huggingface.co/docs/bitsandbytes/main/en/installation#multi-backend",
     "output_type": "error",
     "traceback": [
      "\u001b[1;31m---------------------------------------------------------------------------\u001b[0m",
      "\u001b[1;31mRuntimeError\u001b[0m                              Traceback (most recent call last)",
      "Cell \u001b[1;32mIn[16], line 3\u001b[0m\n\u001b[0;32m      1\u001b[0m llm_openchat \u001b[38;5;241m=\u001b[39m \u001b[38;5;124m'\u001b[39m\u001b[38;5;124mopenchat/openchat-3.5-0106\u001b[39m\u001b[38;5;124m'\u001b[39m\n\u001b[0;32m      2\u001b[0m tokenizer_openchat \u001b[38;5;241m=\u001b[39m AutoTokenizer\u001b[38;5;241m.\u001b[39mfrom_pretrained(llm_openchat)\n\u001b[1;32m----> 3\u001b[0m model_openchat \u001b[38;5;241m=\u001b[39m \u001b[43mAutoModelForCausalLM\u001b[49m\u001b[38;5;241;43m.\u001b[39;49m\u001b[43mfrom_pretrained\u001b[49m\u001b[43m(\u001b[49m\u001b[43mllm_openchat\u001b[49m\u001b[43m,\u001b[49m\n\u001b[0;32m      4\u001b[0m \u001b[43m                                                     \u001b[49m\u001b[43mdevice_map\u001b[49m\u001b[38;5;241;43m=\u001b[39;49m\u001b[38;5;124;43m'\u001b[39;49m\u001b[38;5;124;43mauto\u001b[39;49m\u001b[38;5;124;43m'\u001b[39;49m\u001b[43m,\u001b[49m\n\u001b[0;32m      5\u001b[0m \u001b[43m                                                     \u001b[49m\u001b[43mload_in_8bit\u001b[49m\u001b[38;5;241;43m=\u001b[39;49m\u001b[38;5;28;43;01mTrue\u001b[39;49;00m\u001b[43m)\u001b[49m\n",
      "File \u001b[1;32m~\\Desktop\\IT\\Projects\\venv\\lib\\site-packages\\transformers\\models\\auto\\auto_factory.py:571\u001b[0m, in \u001b[0;36m_BaseAutoModelClass.from_pretrained\u001b[1;34m(cls, pretrained_model_name_or_path, *model_args, **kwargs)\u001b[0m\n\u001b[0;32m    569\u001b[0m     \u001b[38;5;28;01mif\u001b[39;00m model_class\u001b[38;5;241m.\u001b[39mconfig_class \u001b[38;5;241m==\u001b[39m config\u001b[38;5;241m.\u001b[39msub_configs\u001b[38;5;241m.\u001b[39mget(\u001b[38;5;124m\"\u001b[39m\u001b[38;5;124mtext_config\u001b[39m\u001b[38;5;124m\"\u001b[39m, \u001b[38;5;28;01mNone\u001b[39;00m):\n\u001b[0;32m    570\u001b[0m         config \u001b[38;5;241m=\u001b[39m config\u001b[38;5;241m.\u001b[39mget_text_config()\n\u001b[1;32m--> 571\u001b[0m     \u001b[38;5;28;01mreturn\u001b[39;00m model_class\u001b[38;5;241m.\u001b[39mfrom_pretrained(\n\u001b[0;32m    572\u001b[0m         pretrained_model_name_or_path, \u001b[38;5;241m*\u001b[39mmodel_args, config\u001b[38;5;241m=\u001b[39mconfig, \u001b[38;5;241m*\u001b[39m\u001b[38;5;241m*\u001b[39mhub_kwargs, \u001b[38;5;241m*\u001b[39m\u001b[38;5;241m*\u001b[39mkwargs\n\u001b[0;32m    573\u001b[0m     )\n\u001b[0;32m    574\u001b[0m \u001b[38;5;28;01mraise\u001b[39;00m \u001b[38;5;167;01mValueError\u001b[39;00m(\n\u001b[0;32m    575\u001b[0m     \u001b[38;5;124mf\u001b[39m\u001b[38;5;124m\"\u001b[39m\u001b[38;5;124mUnrecognized configuration class \u001b[39m\u001b[38;5;132;01m{\u001b[39;00mconfig\u001b[38;5;241m.\u001b[39m\u001b[38;5;18m__class__\u001b[39m\u001b[38;5;132;01m}\u001b[39;00m\u001b[38;5;124m for this kind of AutoModel: \u001b[39m\u001b[38;5;132;01m{\u001b[39;00m\u001b[38;5;28mcls\u001b[39m\u001b[38;5;241m.\u001b[39m\u001b[38;5;18m__name__\u001b[39m\u001b[38;5;132;01m}\u001b[39;00m\u001b[38;5;124m.\u001b[39m\u001b[38;5;130;01m\\n\u001b[39;00m\u001b[38;5;124m\"\u001b[39m\n\u001b[0;32m    576\u001b[0m     \u001b[38;5;124mf\u001b[39m\u001b[38;5;124m\"\u001b[39m\u001b[38;5;124mModel type should be one of \u001b[39m\u001b[38;5;132;01m{\u001b[39;00m\u001b[38;5;124m'\u001b[39m\u001b[38;5;124m, \u001b[39m\u001b[38;5;124m'\u001b[39m\u001b[38;5;241m.\u001b[39mjoin(c\u001b[38;5;241m.\u001b[39m\u001b[38;5;18m__name__\u001b[39m\u001b[38;5;250m \u001b[39m\u001b[38;5;28;01mfor\u001b[39;00m\u001b[38;5;250m \u001b[39mc\u001b[38;5;250m \u001b[39m\u001b[38;5;129;01min\u001b[39;00m\u001b[38;5;250m \u001b[39m\u001b[38;5;28mcls\u001b[39m\u001b[38;5;241m.\u001b[39m_model_mapping\u001b[38;5;241m.\u001b[39mkeys())\u001b[38;5;132;01m}\u001b[39;00m\u001b[38;5;124m.\u001b[39m\u001b[38;5;124m\"\u001b[39m\n\u001b[0;32m    577\u001b[0m )\n",
      "File \u001b[1;32m~\\Desktop\\IT\\Projects\\venv\\lib\\site-packages\\transformers\\modeling_utils.py:279\u001b[0m, in \u001b[0;36mrestore_default_torch_dtype.<locals>._wrapper\u001b[1;34m(*args, **kwargs)\u001b[0m\n\u001b[0;32m    277\u001b[0m old_dtype \u001b[38;5;241m=\u001b[39m torch\u001b[38;5;241m.\u001b[39mget_default_dtype()\n\u001b[0;32m    278\u001b[0m \u001b[38;5;28;01mtry\u001b[39;00m:\n\u001b[1;32m--> 279\u001b[0m     \u001b[38;5;28;01mreturn\u001b[39;00m func(\u001b[38;5;241m*\u001b[39margs, \u001b[38;5;241m*\u001b[39m\u001b[38;5;241m*\u001b[39mkwargs)\n\u001b[0;32m    280\u001b[0m \u001b[38;5;28;01mfinally\u001b[39;00m:\n\u001b[0;32m    281\u001b[0m     torch\u001b[38;5;241m.\u001b[39mset_default_dtype(old_dtype)\n",
      "File \u001b[1;32m~\\Desktop\\IT\\Projects\\venv\\lib\\site-packages\\transformers\\modeling_utils.py:4228\u001b[0m, in \u001b[0;36mPreTrainedModel.from_pretrained\u001b[1;34m(cls, pretrained_model_name_or_path, config, cache_dir, ignore_mismatched_sizes, force_download, local_files_only, token, revision, use_safetensors, weights_only, *model_args, **kwargs)\u001b[0m\n\u001b[0;32m   4225\u001b[0m     hf_quantizer \u001b[38;5;241m=\u001b[39m \u001b[38;5;28;01mNone\u001b[39;00m\n\u001b[0;32m   4227\u001b[0m \u001b[38;5;28;01mif\u001b[39;00m hf_quantizer \u001b[38;5;129;01mis\u001b[39;00m \u001b[38;5;129;01mnot\u001b[39;00m \u001b[38;5;28;01mNone\u001b[39;00m:\n\u001b[1;32m-> 4228\u001b[0m     \u001b[43mhf_quantizer\u001b[49m\u001b[38;5;241;43m.\u001b[39;49m\u001b[43mvalidate_environment\u001b[49m\u001b[43m(\u001b[49m\n\u001b[0;32m   4229\u001b[0m \u001b[43m        \u001b[49m\u001b[43mtorch_dtype\u001b[49m\u001b[38;5;241;43m=\u001b[39;49m\u001b[43mtorch_dtype\u001b[49m\u001b[43m,\u001b[49m\n\u001b[0;32m   4230\u001b[0m \u001b[43m        \u001b[49m\u001b[43mfrom_tf\u001b[49m\u001b[38;5;241;43m=\u001b[39;49m\u001b[43mfrom_tf\u001b[49m\u001b[43m,\u001b[49m\n\u001b[0;32m   4231\u001b[0m \u001b[43m        \u001b[49m\u001b[43mfrom_flax\u001b[49m\u001b[38;5;241;43m=\u001b[39;49m\u001b[43mfrom_flax\u001b[49m\u001b[43m,\u001b[49m\n\u001b[0;32m   4232\u001b[0m \u001b[43m        \u001b[49m\u001b[43mdevice_map\u001b[49m\u001b[38;5;241;43m=\u001b[39;49m\u001b[43mdevice_map\u001b[49m\u001b[43m,\u001b[49m\n\u001b[0;32m   4233\u001b[0m \u001b[43m        \u001b[49m\u001b[43mweights_only\u001b[49m\u001b[38;5;241;43m=\u001b[39;49m\u001b[43mweights_only\u001b[49m\u001b[43m,\u001b[49m\n\u001b[0;32m   4234\u001b[0m \u001b[43m    \u001b[49m\u001b[43m)\u001b[49m\n\u001b[0;32m   4235\u001b[0m     torch_dtype \u001b[38;5;241m=\u001b[39m hf_quantizer\u001b[38;5;241m.\u001b[39mupdate_torch_dtype(torch_dtype)\n\u001b[0;32m   4236\u001b[0m     device_map \u001b[38;5;241m=\u001b[39m hf_quantizer\u001b[38;5;241m.\u001b[39mupdate_device_map(device_map)\n",
      "File \u001b[1;32m~\\Desktop\\IT\\Projects\\venv\\lib\\site-packages\\transformers\\quantizers\\quantizer_bnb_8bit.py:81\u001b[0m, in \u001b[0;36mBnb8BitHfQuantizer.validate_environment\u001b[1;34m(self, *args, **kwargs)\u001b[0m\n\u001b[0;32m     78\u001b[0m \u001b[38;5;28;01mfrom\u001b[39;00m \u001b[38;5;21;01m.\u001b[39;00m\u001b[38;5;21;01m.\u001b[39;00m\u001b[38;5;21;01mutils\u001b[39;00m \u001b[38;5;28;01mimport\u001b[39;00m is_bitsandbytes_multi_backend_available\n\u001b[0;32m     80\u001b[0m bnb_multibackend_is_enabled \u001b[38;5;241m=\u001b[39m is_bitsandbytes_multi_backend_available()\n\u001b[1;32m---> 81\u001b[0m \u001b[43mvalidate_bnb_backend_availability\u001b[49m\u001b[43m(\u001b[49m\u001b[43mraise_exception\u001b[49m\u001b[38;5;241;43m=\u001b[39;49m\u001b[38;5;28;43;01mTrue\u001b[39;49;00m\u001b[43m)\u001b[49m\n\u001b[0;32m     83\u001b[0m \u001b[38;5;28;01mif\u001b[39;00m kwargs\u001b[38;5;241m.\u001b[39mget(\u001b[38;5;124m\"\u001b[39m\u001b[38;5;124mfrom_tf\u001b[39m\u001b[38;5;124m\"\u001b[39m, \u001b[38;5;28;01mFalse\u001b[39;00m) \u001b[38;5;129;01mor\u001b[39;00m kwargs\u001b[38;5;241m.\u001b[39mget(\u001b[38;5;124m\"\u001b[39m\u001b[38;5;124mfrom_flax\u001b[39m\u001b[38;5;124m\"\u001b[39m, \u001b[38;5;28;01mFalse\u001b[39;00m):\n\u001b[0;32m     84\u001b[0m     \u001b[38;5;28;01mraise\u001b[39;00m \u001b[38;5;167;01mValueError\u001b[39;00m(\n\u001b[0;32m     85\u001b[0m         \u001b[38;5;124m\"\u001b[39m\u001b[38;5;124mConverting into 4-bit or 8-bit weights from tf/flax weights is currently not supported, please make\u001b[39m\u001b[38;5;124m\"\u001b[39m\n\u001b[0;32m     86\u001b[0m         \u001b[38;5;124m\"\u001b[39m\u001b[38;5;124m sure the weights are in PyTorch format.\u001b[39m\u001b[38;5;124m\"\u001b[39m\n\u001b[0;32m     87\u001b[0m     )\n",
      "File \u001b[1;32m~\\Desktop\\IT\\Projects\\venv\\lib\\site-packages\\transformers\\integrations\\bitsandbytes.py:561\u001b[0m, in \u001b[0;36mvalidate_bnb_backend_availability\u001b[1;34m(raise_exception)\u001b[0m\n\u001b[0;32m    559\u001b[0m \u001b[38;5;28;01mif\u001b[39;00m is_bitsandbytes_multi_backend_available():\n\u001b[0;32m    560\u001b[0m     \u001b[38;5;28;01mreturn\u001b[39;00m _validate_bnb_multi_backend_availability(raise_exception)\n\u001b[1;32m--> 561\u001b[0m \u001b[38;5;28;01mreturn\u001b[39;00m \u001b[43m_validate_bnb_cuda_backend_availability\u001b[49m\u001b[43m(\u001b[49m\u001b[43mraise_exception\u001b[49m\u001b[43m)\u001b[49m\n",
      "File \u001b[1;32m~\\Desktop\\IT\\Projects\\venv\\lib\\site-packages\\transformers\\integrations\\bitsandbytes.py:539\u001b[0m, in \u001b[0;36m_validate_bnb_cuda_backend_availability\u001b[1;34m(raise_exception)\u001b[0m\n\u001b[0;32m    537\u001b[0m \u001b[38;5;28;01mif\u001b[39;00m raise_exception:\n\u001b[0;32m    538\u001b[0m     logger\u001b[38;5;241m.\u001b[39merror(log_msg)\n\u001b[1;32m--> 539\u001b[0m     \u001b[38;5;28;01mraise\u001b[39;00m \u001b[38;5;167;01mRuntimeError\u001b[39;00m(log_msg)\n\u001b[0;32m    541\u001b[0m logger\u001b[38;5;241m.\u001b[39mwarning(log_msg)\n\u001b[0;32m    542\u001b[0m \u001b[38;5;28;01mreturn\u001b[39;00m \u001b[38;5;28;01mFalse\u001b[39;00m\n",
      "\u001b[1;31mRuntimeError\u001b[0m: CUDA is required but not available for bitsandbytes. Please consider installing the multi-platform enabled version of bitsandbytes, which is currently a work in progress. Please check currently supported platforms and installation instructions at https://huggingface.co/docs/bitsandbytes/main/en/installation#multi-backend"
     ]
    }
   ],
   "source": [
    "llm_openchat = 'openchat/openchat-3.5-0106'\n",
    "tokenizer_openchat = AutoTokenizer.from_pretrained(llm_openchat)\n",
    "model_openchat = AutoModelForCausalLM.from_pretrained(llm_openchat,\n",
    "                                                     device_map='auto',\n",
    "                                                     load_in_8bit=True)"
   ]
  },
  {
   "cell_type": "code",
   "execution_count": null,
   "metadata": {
    "id": "1hLYnDiexGEn"
   },
   "outputs": [],
   "source": [
    "pipe_openchat = pipeline('text-generation',\n",
    "                model=model_openchat,\n",
    "                tokenizer=tokenizer_openchat)"
   ]
  },
  {
   "cell_type": "code",
   "execution_count": null,
   "metadata": {
    "id": "YBkLEOMQxGEn",
    "outputId": "65b9f98d-2ce6-44c8-ef40-fd642c259860"
   },
   "outputs": [],
   "source": [
    "%%time\n",
    "# Проверим работу на единичном запросе\n",
    "question = 'Какая минимальная площадь помещения?'\n",
    "s = 'Фрагменты базы знаний:\\n'\n",
    "for i in range(len(ensemble_retriever.invoke(question))):\n",
    "    s += ensemble_retriever.invoke(question)[i].page_content\n",
    "    s += '\\n'\n",
    "content = \"\"\"Ты – сотрудник техподдержки Вайлдберриз. Начинай свой ответ с слова «Здравствуйте!» \\\n",
    "Ниже приведены фрагменты базы знаний и запрос пользователя. Ответь на вопрос пользователя используя информацию из фрагментов ниже.\\\n",
    "Если в фрагментах ниже не будет ответа скажи: «Я не знаю ответ, пожалуйста сформулируйте свой вопрос иначе».\"\"\" + s\n",
    "print(pipe_openchat([{'role': 'system',\n",
    "               'content': content},\n",
    "              {'role': 'user', 'content': question}],\n",
    "             max_new_tokens=512,\n",
    "             do_sample=True,\n",
    "             temperature=0.8)[0]['generated_text'][-1]['content'])"
   ]
  },
  {
   "cell_type": "code",
   "execution_count": null,
   "metadata": {
    "id": "EyODa4sIxGEn"
   },
   "outputs": [],
   "source": [
    "def get_answer_openchat(question, max_new_tokens=2048, temperature=0.7):\n",
    "    \"\"\"Функция для генерации ответом с помощью LLM openchat-3.5\"\"\"\n",
    "    s = 'Фрагменты базы знаний:\\n'\n",
    "    for i in range(len(ensemble_retriever.invoke(question))):\n",
    "        s += ensemble_retriever.invoke(question)[i].page_content\n",
    "        s += '\\n'\n",
    "    content = \"\"\"Ты – сотрудник техподдержки Вайлдберриз. Начинай свой ответ с слова «Здравствуйте!» \\\n",
    "    Ниже приведены фрагменты базы знаний и запрос пользователя. Ответь на вопрос пользователя используя информацию из фрагментов ниже.\\\n",
    "    Если в фрагментах ниже не будет ответа скажи: «Я не знаю ответ, пожалуйста сформулируйте свой вопрос иначе».\"\"\" + s\n",
    "    return pipe_openchat([{'role': 'system',\n",
    "               'content': content},\n",
    "              {'role': 'user', 'content': question}],\n",
    "             max_new_tokens=max_new_tokens,\n",
    "             do_sample=True,\n",
    "             temperature=temperature)[0]['generated_text'][-1]['content'][1:]"
   ]
  },
  {
   "cell_type": "code",
   "execution_count": null,
   "metadata": {
    "id": "aiMNkXijxGEn",
    "outputId": "e70ff49b-9969-499c-b2d2-fcb56aa59ca3"
   },
   "outputs": [],
   "source": [
    "%%time\n",
    "random.seed(2)\n",
    "questions = []\n",
    "for _ in range(100):\n",
    "    questions.append(random.choice(df_QA_pairs['question'].values))\n",
    "print(*questions, sep='\\n')"
   ]
  },
  {
   "cell_type": "code",
   "execution_count": null,
   "metadata": {
    "id": "E-z2w63lxGEn",
    "outputId": "5494e45d-c93f-4341-fdc1-631bc2785e08"
   },
   "outputs": [],
   "source": [
    "questions = questions[:20]\n",
    "questions"
   ]
  },
  {
   "cell_type": "code",
   "execution_count": null,
   "metadata": {
    "id": "lYdYiGzCxGEo"
   },
   "outputs": [],
   "source": [
    "import logging\n",
    "import transformers\n",
    "\n",
    "# Отключение логирования для transformers\n",
    "logging.getLogger(\"transformers\").setLevel(logging.ERROR)"
   ]
  },
  {
   "cell_type": "code",
   "execution_count": null,
   "metadata": {
    "id": "l-HWr1-9xGEo"
   },
   "outputs": [],
   "source": [
    "from bert_score import score as bert_score\n",
    "import time"
   ]
  },
  {
   "cell_type": "code",
   "execution_count": null,
   "metadata": {
    "id": "eWJycScVxGEo"
   },
   "outputs": [],
   "source": [
    "# Список для хранения времени генерации ответов\n",
    "generation_times = []\n",
    "# Генерация ответов и измерение времени\n",
    "generated_answers = []\n",
    "for question in questions:\n",
    "    start_time = time.time()\n",
    "    generated_answer = get_answer_openchat(question)\n",
    "    end_time = time.time()\n",
    "    generation_time = end_time - start_time\n",
    "    generated_answers.append(generated_answer)\n",
    "    generation_times.append(generation_time)\n",
    "# Формирование списка экспертных ответов\n",
    "expert_answers = [df_QA_pairs[df_QA_pairs['question'] == question]['answer'].iloc[0] for question in questions]"
   ]
  },
  {
   "cell_type": "code",
   "execution_count": null,
   "metadata": {
    "id": "7aPJCTmIxGEo"
   },
   "outputs": [],
   "source": [
    "# Обновленная функция quality_score_llm для учета времени генерации\n",
    "def quality_score_llm_2(questions, generated_answers, expert_answers, generation_times):\n",
    "    results = []\n",
    "    for question, generated_answer, expert_answer, generation_time in zip(questions, generated_answers, expert_answers, generation_times):\n",
    "        precision, recall, f1 = bert_score([generated_answer], [expert_answer], lang=\"ru\")\n",
    "\n",
    "        # Получаем средние значения для precision, recall и f1\n",
    "        precision_val = precision.mean().item()\n",
    "        recall_val = recall.mean().item()\n",
    "        f1_val = f1.mean().item()\n",
    "\n",
    "        results.append({\n",
    "            'question': question,\n",
    "            'answer_gen': generated_answer,\n",
    "            'answer_exp': expert_answer,\n",
    "            'precision': round(precision_val, 3),\n",
    "            'recall': round(recall_val, 3),\n",
    "            'f1_val': round(f1_val, 3),\n",
    "            'generation_time': round(generation_time, 2)\n",
    "        })\n",
    "\n",
    "    result_df = pd.DataFrame(results)\n",
    "    return result_df"
   ]
  },
  {
   "cell_type": "code",
   "execution_count": null,
   "metadata": {
    "id": "OpKyEhocxGEo"
   },
   "outputs": [],
   "source": [
    "df_score_llm_openchat_2 = quality_score_llm_2(questions, generated_answers, expert_answers, generation_times)"
   ]
  },
  {
   "cell_type": "code",
   "execution_count": null,
   "metadata": {
    "id": "2sPGokdnxGEo",
    "outputId": "0327657a-271a-4f57-ddba-d98c53a2e86d"
   },
   "outputs": [],
   "source": [
    "df_score_llm_openchat_2"
   ]
  },
  {
   "cell_type": "code",
   "execution_count": null,
   "metadata": {
    "id": "eiDa85fnxGEo"
   },
   "outputs": [],
   "source": [
    "# Сохраним df в файл\n",
    "df_score_llm_openchat_2.to_excel('df_score_llm_openchat_2.xlsx', index=False)"
   ]
  },
  {
   "cell_type": "markdown",
   "metadata": {
    "id": "5vcIQ7q9xGEo"
   },
   "source": [
    "### Итоги:\n",
    "\n",
    "Для генерации ответов на основе запросов пользователей и информации из базы знаний была загружена и протестирована openchat-3.5 с параметрами, подбранными в 4-ом этапе"
   ]
  },
  {
   "cell_type": "markdown",
   "metadata": {
    "id": "BEUCiHJ4xGEo"
   },
   "source": [
    "## 5.4. Создание базы вопросов-ответов"
   ]
  },
  {
   "cell_type": "code",
   "execution_count": null,
   "metadata": {
    "id": "9d7XLYLPxGEo",
    "outputId": "47556c9a-0f7b-46d2-a509-157ef6751f02"
   },
   "outputs": [],
   "source": [
    "# URL файла на Google Диске\n",
    "file_url = \"https://drive.google.com/uc?id=14cVh-p22ka0hGyOdZ7HF2tGyNDap2IlT\"\n",
    "\n",
    "# Загрузка файла с помощью gdown\n",
    "gdown.download(file_url, output=\"func_correct_spelling.ipynb\")"
   ]
  },
  {
   "cell_type": "code",
   "execution_count": null,
   "metadata": {
    "id": "8Lr85xEhxGEp"
   },
   "outputs": [],
   "source": [
    "%run /kaggle/working/func_correct_spelling.ipynb"
   ]
  },
  {
   "cell_type": "code",
   "execution_count": null,
   "metadata": {
    "id": "mKaq6VgxxGEp",
    "outputId": "aefd4c5f-d696-4803-ce38-1d3dad8169f3"
   },
   "outputs": [],
   "source": [
    "# URL файла на Google Диске\n",
    "file_url = \"https://drive.google.com/uc?id=1iMOskRbKgbBIrSPb8kKqzKHufcRDGZcO\"\n",
    "\n",
    "# Загрузка файла с помощью gdown\n",
    "gdown.download(file_url, output=\"df_knowledge_base_doc13.xlsx\")\n",
    "\n",
    "# Чтение данных из Excel файла в датафрейм\n",
    "df_knowledge_base_doc13 = pd.read_excel(\"df_knowledge_base_doc13.xlsx\")"
   ]
  },
  {
   "cell_type": "code",
   "execution_count": null,
   "metadata": {
    "id": "ePnpwIKjxGEp"
   },
   "outputs": [],
   "source": [
    "df_BQA = df_knowledge_base_doc13.copy()"
   ]
  },
  {
   "cell_type": "code",
   "execution_count": null,
   "metadata": {
    "id": "afOYOnt6xGEp",
    "outputId": "237f09ab-7c32-492a-b1bf-dd077f08469f"
   },
   "outputs": [],
   "source": [
    "%%time\n",
    "df_BQA['question'] = df_BQA['question'].apply(correct_spelling)"
   ]
  },
  {
   "cell_type": "code",
   "execution_count": null,
   "metadata": {
    "id": "mQOQRd5fxGEp",
    "outputId": "857da1df-42d7-449f-8ffe-c42b7d4eb2d0"
   },
   "outputs": [],
   "source": [
    "# URL файла на Google Диске\n",
    "file_url = \"https://drive.google.com/uc?id=1ByP0y3wEZfEaQbC9QtAabuZDWjUw8zVN\"\n",
    "\n",
    "# Загрузка файла с помощью gdown\n",
    "gdown.download(file_url, output=\"df_QA_hello_2.1.xlsx\")\n",
    "\n",
    "# Чтение данных из Excel файла в датафрейм\n",
    "df_QA_hello = pd.read_excel(\"df_QA_hello_2.1.xlsx\")"
   ]
  },
  {
   "cell_type": "code",
   "execution_count": null,
   "metadata": {
    "id": "YToJLykexGEp",
    "outputId": "b4b67741-a073-4850-d7c7-594c6635b5b0"
   },
   "outputs": [],
   "source": [
    "# URL файла на Google Диске\n",
    "file_url = \"https://drive.google.com/uc?id=1_6k53ZJ0iObcA3dFgpOxYuJ-UPnsiqNM\"\n",
    "\n",
    "# Загрузка файла с помощью gdown\n",
    "gdown.download(file_url, output=\"df_QA_bot_2.1.xlsx\")\n",
    "\n",
    "# Чтение данных из Excel файла в датафрейм\n",
    "df_QA_bot = pd.read_excel(\"df_QA_bot_2.1.xlsx\")"
   ]
  },
  {
   "cell_type": "code",
   "execution_count": null,
   "metadata": {
    "id": "k2DwJbVixGEp",
    "outputId": "062da969-6260-48b4-83be-304013750d3d"
   },
   "outputs": [],
   "source": [
    "merged_df = pd.concat([df_QA_hello, df_QA_bot, df_BQA], ignore_index=True)\n",
    "merged_df.shape"
   ]
  },
  {
   "cell_type": "code",
   "execution_count": null,
   "metadata": {
    "id": "uhsq4oWGxGEp",
    "outputId": "d6febed3-797d-4a38-9527-6bfc682d551e"
   },
   "outputs": [],
   "source": [
    "global df_BQA, set_question_of_BQA\n",
    "df_BQA = merged_df.copy()\n",
    "df_BQA.reset_index(drop=True, inplace=True) # Обновим индексы\n",
    "set_question_of_BQA = set(df_BQA['question'])\n",
    "df_BQA.shape"
   ]
  },
  {
   "cell_type": "code",
   "execution_count": null,
   "metadata": {
    "id": "yYsJ34pRxGEq"
   },
   "outputs": [],
   "source": [
    "# Сохраним df в файл\n",
    "df_BQA.to_excel('df_BQA.xlsx', index=False)"
   ]
  },
  {
   "cell_type": "markdown",
   "metadata": {
    "id": "NLPs5AnFxGEq"
   },
   "source": [
    "### Итоги:\n",
    "\n",
    "Была создана база готовых вопросов ответов, для того чтобы генерировать ответы пользователям сразу, без обращения к RAG системе."
   ]
  },
  {
   "cell_type": "markdown",
   "metadata": {
    "id": "JwtCuQIVxGEq"
   },
   "source": [
    "## 5.5 Проверка работы QA-системы"
   ]
  },
  {
   "cell_type": "code",
   "execution_count": null,
   "metadata": {
    "id": "1DI_g8prxGEq"
   },
   "outputs": [],
   "source": [
    "def QA_system(question: str) -> str:\n",
    "    \"\"\"Функция генерации ответов на вопрос\"\"\"\n",
    "    question = correct_spelling(question)\n",
    "    if question in set_question_of_BQA:\n",
    "        return df_BQA[df_BQA['question'] == question]['answer'].iloc[0]\n",
    "    else:\n",
    "        return get_answer_openchat(question)"
   ]
  },
  {
   "cell_type": "code",
   "execution_count": null,
   "metadata": {
    "id": "IGvgOJSrxGEq",
    "outputId": "afaacfa5-4a8f-4fec-faeb-910a590b0201"
   },
   "outputs": [],
   "source": [
    "# Возьмем выборку из 10 случайных вопросов из изначального пула вопросов и 10 вопросов из только что сформированной базы вопросов-ответов\n",
    "random.seed(2)\n",
    "questions_2 = []\n",
    "for _ in range(10):\n",
    "    questions_2.append(random.choice(questions))\n",
    "    questions_2.append(random.choice(df_BQA['question'].values))\n",
    "print(*questions_2, sep='\\n')"
   ]
  },
  {
   "cell_type": "code",
   "execution_count": null,
   "metadata": {
    "id": "LZ3K5tt1xGEr",
    "outputId": "2a653c31-6b1b-496b-ac51-694a4ea27dd7"
   },
   "outputs": [],
   "source": [
    "# Визуально посмотрим на генерацию QA-системы\n",
    "for q in questions_2:\n",
    "    print(f'Запрос: {q}')\n",
    "    print()\n",
    "    start_time = time.time()\n",
    "    print(QA_system(q))\n",
    "    end_time = time.time()\n",
    "    print()\n",
    "    print(f\"Время выполнения запроса: {round((end_time - start_time), 2)} сек\")\n",
    "    print('-'*100)"
   ]
  },
  {
   "cell_type": "code",
   "execution_count": null,
   "metadata": {
    "id": "LAJ2uSNpxGEr",
    "outputId": "f421c10f-2949-4490-c713-b2a794dcf96c"
   },
   "outputs": [],
   "source": [
    "# URL файла на Google Диске\n",
    "file_url = \"https://drive.google.com/uc?id=1QV-tPNO5hVyN2-RNyoVhCcjtd-jBdIOE\"\n",
    "\n",
    "# Загрузка файла с помощью gdown\n",
    "gdown.download(file_url, output=\"df_score_llm_openchat.xlsx\")\n",
    "\n",
    "# Чтение данных из Excel файла в датафрейм\n",
    "df_score_llm_openchat = pd.read_excel(\"df_score_llm_openchat.xlsx\")"
   ]
  },
  {
   "cell_type": "code",
   "execution_count": null,
   "metadata": {
    "id": "LzeOyZeqxGEr",
    "outputId": "39d202dc-223f-452f-9435-6173c8a3c03c"
   },
   "outputs": [],
   "source": [
    "# Посмотрим на медианные значения\n",
    "print(f'F1-score: {round(df_score_llm_openchat_2.f1_val.median(), 3)}')\n",
    "print(f'Точность: {round(df_score_llm_openchat_2.precision.median(), 3)}')\n",
    "print(f'Полнота: {round(df_score_llm_openchat_2.recall.median(), 3)}')\n",
    "print(f'Время ответов: {round(df_score_llm_openchat_2.generation_time.median(), 2)} сек')"
   ]
  },
  {
   "cell_type": "markdown",
   "metadata": {
    "id": "Ln1c1s9XxGEr"
   },
   "source": [
    "## 5.6. Итоги 5-го этапа:\n",
    "1. В качестве ретривера был выбран гибридный поиск bm25 - для текстового поиска, e5 -для векторного поиска по векторной БД.\n",
    "2. Для генерации ответов на сонове запросов пользователей и найденной информации из базы знаний подобрана openchat-3.5. На 20 случайных вопросах была оценена совместная работа модулей поиска и генерации на основе метрик BERTscore.\n",
    "3. Создана база готовых вопросов ответов, для последующих быстрых ответов, без обращения к RAG системе.\n",
    "4. Проверена работа QA системы, которая состоит из модулей:\n",
    "    - устранения опечаток и проверки вопроса на наличие в базе готовых вопросов/ответов;\n",
    "    - RAG-модуля."
   ]
  },
  {
   "cell_type": "markdown",
   "metadata": {
    "id": "aSceyrtZxGEr"
   },
   "source": [
    "# Итоги работы по этапам:\n",
    "\n",
    "## Этап 1:\n",
    "    1. Был проведен визуальный осмотр имеющихся данных, удалены дубли, сформулирован направление предобработки данных их чистка от символов затрудняющих дальнейшую работу.\n",
    "    2. Были сформулированы гипотезы по улучшению качества данных для более точного формулирования промта для подачи в LLM.\n",
    "    3. Произведен ряд манипуляций с текстами и структурой чанок их акутальность для LLM.\n",
    "    4. Для чанок из базы знаний и запросах пользователей из вопросно-ответной БД были выделены ключевые слова и эмбеддинги, позволяющие выполнять в дальнейшем текстовый и векторный поиск соотвественно.\n",
    "    \n",
    "## Этап 2:\n",
    "    1. Было доработано предварительное разбиение текстов запросов и чанок на ключевые слова, что позволило устранить неинформативные слова, которые не вошли в стандартный стоп-лист. В итоге это позволило добиться лучших векторных представлений.\n",
    "    2. Произведено сравнение основных подходов в поиске-сопоставлении запросов-чанок из БЗ, проанализированы текстовый и векторный поиск с помощью моделей (CountVectorizer и USE).\n",
    "    3. После проведения сопоставлений запросов/чанок стали понтятны основные направления улучшения предобработки данных.\n",
    "    \n",
    "## Этап 3:\n",
    "    1. Проведена кластеризация запросов пользователей, для того чтобы выявить дисбаланс в темах запросов пользователей и использовать это при дообучении энкодера запросов пользователей.\n",
    "    2. Попробовал дообучить энкодер (на основе модели ruBERT-tiny2) на стратифицированной обучающей выборке (запросы-ответы).\n",
    "    3. Удалось загрузить квантованную LLM. Построена цепь простой RAG на основе библиотек langchein и локальной LLM-mistral.\n",
    "    4. Сформирован pipeline схемs валидации модуля Generation для оценки качества генерации текущей и последующих моделей.\n",
    "        \n",
    "## Этап 4:\n",
    "__Для улучшения качества поиска нужной информации (retriever):__\n",
    "\n",
    "    1. Была создана векторная база данных на основе фреймворка faiss, а затем произведен предварительный анализ резульаттов поисков векторных ретриверов на основании моделей ruBERT и e5, в ходе которого была выявлена проблема коротких и длинных чанок в БЗ.\n",
    "    2. Из базы знаний короткие чанки (менее 200 символов) были объединены со следующими чанками для одного документа, а длинные чанки (более 170 слов) были разделены на чанки меньшего размера.\n",
    "    3. Была сформулирована и проверена гипотеза о том, что bm25 и векторные ретриверы rubert и e5 будут лучше на ключевых словах, нежели на полнотекстовых чанках. Гипотеза не подтвердилась.\n",
    "    4. На основе визуального анализа и метрики bert_score был выбран в качестве векторного поиска эмбеддер e5.\n",
    "    5. Сформирован гибридный поиск на основе bm25 и e5.\n",
    "\n",
    "__Для улучшения качества генерации ответов:__\n",
    "\n",
    "    6. Протестированы модели llm_rugpt_medium, llm_rugpt_large, openchat-3.5 для различных параметров этих моделей и формулировок промта/организации pipeline.chain. В итоге была выбрана openchat-3.5 за качество генерации.\n",
    "    7. Для подбора оптимальных параметров openchat-3.5 был проведен grid search с оценкой качества генерации по BERTscore.\n",
    "\n",
    "__Создана QA-система:__\n",
    "\n",
    "    8. Для работы с опечатками была написана функция correct_spelling, которая работает гораздо быстрее Yandex_Speller, используемого на 2-м этапе.\n",
    "    9. Для ответов на частовстречающиеся вопросы и оптимизации затрат ресурсов на работу RAG системы была создана база вопросов ответов (БВО) (датафреймы: \"Приветсвия\", \"I'm bot\", \"document_id==13\")\n",
    "    10. Протестирована работа QA-системы на случаных вопросах ответах из БВО и изначального датафрейма с вопросами.\n",
    "    \n",
    "## Этап 5:\n",
    "    1. Были доработаны функции генерации ответов и QA-системы, на основе 20 случайных вопросов сформирован датафрейм с вопросами, ответами системы, колонками оценки качества и времени генерации.\n",
    "    2. Собран проект в PyCharm c отработкой запросов на локальном сервере с помощью FastAPI.\n",
    "    3. Квантованную версию LLM openchat-3.5 удалось разместить и запустить на локальной видеокарте."
   ]
  }
 ],
 "metadata": {
  "colab": {
   "provenance": [],
   "toc_visible": true
  },
  "kaggle": {
   "accelerator": "nvidiaTeslaT4",
   "dataSources": [
    {
     "datasetId": 4922959,
     "sourceId": 8288210,
     "sourceType": "datasetVersion"
    }
   ],
   "dockerImageVersionId": 30699,
   "isGpuEnabled": true,
   "isInternetEnabled": true,
   "language": "python",
   "sourceType": "notebook"
  },
  "kernelspec": {
   "display_name": "WB Kernel",
   "language": "python",
   "name": "my_wb_kernel"
  },
  "language_info": {
   "codemirror_mode": {
    "name": "ipython",
    "version": 3
   },
   "file_extension": ".py",
   "mimetype": "text/x-python",
   "name": "python",
   "nbconvert_exporter": "python",
   "pygments_lexer": "ipython3",
   "version": "3.9.13"
  }
 },
 "nbformat": 4,
 "nbformat_minor": 4
}
